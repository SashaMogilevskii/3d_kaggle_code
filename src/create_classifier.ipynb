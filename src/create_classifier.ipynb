{
 "cells": [
  {
   "cell_type": "code",
   "execution_count": 4,
   "id": "70ab36a6-2a2e-413e-a12b-0551deabee6c",
   "metadata": {},
   "outputs": [],
   "source": [
    "from models3d.models.resnet import generate_model"
   ]
  },
  {
   "cell_type": "code",
   "execution_count": 18,
   "id": "119473fa-58f2-4f1b-bdca-8b6839560164",
   "metadata": {},
   "outputs": [],
   "source": [
    "device = torch.device('cuda' if torch.cuda.is_available() else 'cpu')"
   ]
  },
  {
   "cell_type": "code",
   "execution_count": 19,
   "id": "7e523a4f-e524-47b5-a86e-df9a7a3aef8d",
   "metadata": {},
   "outputs": [],
   "source": [
    "model = generate_model(50, **{\"n_input_channels\":1,\n",
    "                           \"n_classes\":3}).to(device)"
   ]
  },
  {
   "cell_type": "code",
   "execution_count": 20,
   "id": "9ee1a99c-fdf2-44da-8dc5-06753f2ffa36",
   "metadata": {},
   "outputs": [],
   "source": [
    "import torch\n",
    "img = torch.rand(1,1,196,196,196).to(device)"
   ]
  },
  {
   "cell_type": "code",
   "execution_count": 21,
   "id": "f2ada849-af83-4e9c-9fb6-b0f93324278a",
   "metadata": {},
   "outputs": [
    {
     "data": {
      "text/plain": [
       "torch.Size([1, 1, 196, 196, 196])"
      ]
     },
     "execution_count": 21,
     "metadata": {},
     "output_type": "execute_result"
    }
   ],
   "source": [
    "img.shape"
   ]
  },
  {
   "cell_type": "code",
   "execution_count": 22,
   "id": "ae2e4c52-3045-4793-96e6-ec1d3c666c70",
   "metadata": {},
   "outputs": [
    {
     "data": {
      "text/plain": [
       "tensor([[-0.7019,  1.0515,  0.7871]], device='cuda:0',\n",
       "       grad_fn=<AddmmBackward0>)"
      ]
     },
     "execution_count": 22,
     "metadata": {},
     "output_type": "execute_result"
    }
   ],
   "source": [
    "model.forward(img)"
   ]
  },
  {
   "cell_type": "code",
   "execution_count": null,
   "id": "1b14eb1e-3f4f-420d-9682-6e9a38a6807d",
   "metadata": {},
   "outputs": [],
   "source": []
  },
  {
   "cell_type": "code",
   "execution_count": null,
   "id": "2e20e8a8-7c83-4af4-a658-f271515c91b7",
   "metadata": {},
   "outputs": [],
   "source": []
  },
  {
   "cell_type": "code",
   "execution_count": null,
   "id": "79bc17a5-d0a8-4aa5-9343-dbba2f832dac",
   "metadata": {},
   "outputs": [],
   "source": []
  },
  {
   "cell_type": "code",
   "execution_count": null,
   "id": "5dc702c8-dae4-4177-ba1e-e6f1243d493f",
   "metadata": {},
   "outputs": [],
   "source": []
  },
  {
   "cell_type": "code",
   "execution_count": null,
   "id": "5c0fdfba-7299-4f67-aaef-23e6361affcd",
   "metadata": {},
   "outputs": [],
   "source": []
  },
  {
   "cell_type": "code",
   "execution_count": null,
   "id": "91c71ed5-f65a-440f-822c-8bc850c4a5d6",
   "metadata": {},
   "outputs": [],
   "source": []
  }
 ],
 "metadata": {
  "kernelspec": {
   "display_name": "Python 3 (ipykernel)",
   "language": "python",
   "name": "python3"
  },
  "language_info": {
   "codemirror_mode": {
    "name": "ipython",
    "version": 3
   },
   "file_extension": ".py",
   "mimetype": "text/x-python",
   "name": "python",
   "nbconvert_exporter": "python",
   "pygments_lexer": "ipython3",
   "version": "3.10.7"
  }
 },
 "nbformat": 4,
 "nbformat_minor": 5
}
