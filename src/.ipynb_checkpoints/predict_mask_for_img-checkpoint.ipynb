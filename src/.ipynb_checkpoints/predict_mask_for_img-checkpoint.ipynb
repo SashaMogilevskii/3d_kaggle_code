{
 "cells": [
  {
   "cell_type": "code",
   "execution_count": 1,
   "id": "fbd42600-b475-4efa-ab8e-0826ebbde364",
   "metadata": {
    "pycharm": {
     "is_executing": true
    }
   },
   "outputs": [],
   "source": [
    "import yaml\n",
    "import time\n",
    "import os\n",
    "import datetime\n",
    "import warnings\n",
    "import sys\n",
    "\n",
    "warnings.simplefilter(action='ignore', category=FutureWarning)\n",
    "sys.path.append(\"../pytorch3dunet/unet3d\")\n",
    "sys.path.append(\"../src/utils/\")\n",
    "\n",
    "import torch\n",
    "import numpy as np\n",
    "\n",
    "\n",
    "from torch import nn\n",
    "from box import Box\n",
    "from loguru import logger\n",
    "from tqdm import tqdm\n",
    "from torch.cuda import amp\n",
    "from transformers import get_cosine_with_hard_restarts_schedule_with_warmup\n",
    "\n",
    "\n",
    "import losses\n",
    "from base_scripts import set_seed, create_train_test_loader, create_fold_from_data\n",
    "from my_losses import MyDiceLoss, CategoricalCrossEntropyLoss\n",
    "from my_metrics import print_metric_MeanIoU\n",
    "\n",
    "from model import ResidualUNet3D"
   ]
  },
  {
   "cell_type": "code",
   "execution_count": 2,
   "id": "1f46a118-5d49-476a-80f4-de7adbc5301e",
   "metadata": {},
   "outputs": [],
   "source": [
    "import os \n",
    "import pydicom\n",
    "import numpy as np \n",
    "import matplotlib.pyplot as plt\n",
    "import ipyvolume as ipv\n",
    "import nibabel as nib"
   ]
  },
  {
   "cell_type": "code",
   "execution_count": 37,
   "id": "633994ff-df2a-4c85-8eb5-d45b7fc51f74",
   "metadata": {},
   "outputs": [],
   "source": [
    "dicom_folder  = r\"C:\\KAGGLE\\MEDICINE\\data\\train_images\\55567\\55583\""
   ]
  },
  {
   "cell_type": "code",
   "execution_count": 38,
   "id": "0b3dd54d-92c2-4c38-a8e1-f71d3562be46",
   "metadata": {},
   "outputs": [],
   "source": [
    "lst_files = os.listdir(dicom_folder)"
   ]
  },
  {
   "cell_type": "code",
   "execution_count": 39,
   "id": "c76f93e3-869f-4fd1-a76a-715921da20e3",
   "metadata": {},
   "outputs": [],
   "source": [
    "def standardize_pixel_array(dcm: pydicom.dataset.FileDataset) -> np.ndarray:\n",
    "    \"\"\"\n",
    "    Source : https://www.kaggle.com/competitions/rsna-2023-abdominal-trauma-detection/discussion/427217\n",
    "    \"\"\"\n",
    "    # Correct DICOM pixel_array if PixelRepresentation == 1.\n",
    "    pixel_array = dcm.pixel_array\n",
    "    if dcm.PixelRepresentation == 1:\n",
    "        bit_shift = dcm.BitsAllocated - dcm.BitsStored\n",
    "        dtype = pixel_array.dtype \n",
    "        pixel_array = (pixel_array << bit_shift).astype(dtype) >>  bit_shift\n",
    "#         pixel_array = pydicom.pixel_data_handlers.util.apply_modality_lut(new_array, dcm)\n",
    "\n",
    "    intercept = float(dcm.RescaleIntercept)\n",
    "    slope = float(dcm.RescaleSlope)\n",
    "    center = int(dcm.WindowCenter)\n",
    "    width = int(dcm.WindowWidth)\n",
    "    low = center - width / 2\n",
    "    high = center + width / 2    \n",
    "    \n",
    "    pixel_array = (pixel_array * slope) + intercept\n",
    "    pixel_array = np.clip(pixel_array, low, high)\n",
    "\n",
    "    return pixel_array"
   ]
  },
  {
   "cell_type": "code",
   "execution_count": 40,
   "id": "741bd0ad-3eef-43c1-9693-8272cf707b84",
   "metadata": {},
   "outputs": [],
   "source": [
    "def process(data_path=\"\", size=512):\n",
    "    lst_files = os.listdir(data_path)\n",
    "    lst_files = [int(x[:-4]) for x  in lst_files]\n",
    "    imgs = []\n",
    "    for f in range(min(lst_files), max(lst_files) + 1):\n",
    "        path_to_files = os.path.join(data_path, f\"{f}.dcm\")\n",
    "\n",
    "        dicom = pydicom.dcmread(path_to_files)\n",
    "\n",
    "        pos_z = dicom[(0x20, 0x32)].value[-1]\n",
    "\n",
    "        img = standardize_pixel_array(dicom)\n",
    "        img = (img - img.min()) / (img.max() - img.min() + 1e-6)\n",
    "\n",
    "        if dicom.PhotometricInterpretation == \"MONOCHROME1\":\n",
    "            img = 1 - img\n",
    "\n",
    "    \n",
    "        if img.shape != (512, 512):\n",
    "            img = cv2.resize(img, (size, size))\n",
    "\n",
    "        imgs.append(img)\n",
    "\n",
    "    combined_array = np.stack(imgs, axis=0)\n",
    "    \n",
    "    combined_array = np.transpose(combined_array, [1, 2, 0])\n",
    "    \n",
    "    return combined_array\n"
   ]
  },
  {
   "cell_type": "code",
   "execution_count": 41,
   "id": "9082366e-673a-4b8a-95e3-fda934a305e5",
   "metadata": {},
   "outputs": [],
   "source": [
    "img = process(data_path=dicom_folder, size=512)"
   ]
  },
  {
   "cell_type": "code",
   "execution_count": 42,
   "id": "4eb43adb-1588-4ed8-9310-7649d73a04c3",
   "metadata": {},
   "outputs": [
    {
     "data": {
      "text/plain": [
       "(512, 512, 47)"
      ]
     },
     "execution_count": 42,
     "metadata": {},
     "output_type": "execute_result"
    }
   ],
   "source": [
    "img.shape"
   ]
  },
  {
   "cell_type": "code",
   "execution_count": 43,
   "id": "1a7d4c4a-8736-4167-be5f-7f8ef5e9d17f",
   "metadata": {},
   "outputs": [],
   "source": [
    "import volumentations as V\n",
    "aug = V.Compose([\n",
    "            V.Resize((256,256,96), interpolation=3, resize_type=0, always_apply=True, p=1.0),\n",
    "        ], p=1.0)"
   ]
  },
  {
   "cell_type": "code",
   "execution_count": 44,
   "id": "b8d2d322-2285-45d5-bcba-87ccadbb8f18",
   "metadata": {},
   "outputs": [],
   "source": [
    "data_for_aug = {'image': img}\n",
    "aug_data = aug(**data_for_aug)\n",
    "\n",
    "img_new = aug_data['image']"
   ]
  },
  {
   "cell_type": "code",
   "execution_count": 45,
   "id": "24eec763-f8cf-4fff-9dea-747a29350f72",
   "metadata": {},
   "outputs": [],
   "source": [
    "device = torch.device('cuda' if torch.cuda.is_available() else 'cpu')"
   ]
  },
  {
   "cell_type": "code",
   "execution_count": 46,
   "id": "8467d1e1-eba8-49e8-90d2-f0f4360c4bfc",
   "metadata": {},
   "outputs": [
    {
     "data": {
      "text/plain": [
       "device(type='cuda')"
      ]
     },
     "execution_count": 46,
     "metadata": {},
     "output_type": "execute_result"
    }
   ],
   "source": [
    "model = ResidualUNet3D(in_channels=1,\n",
    "                                   out_channels=5,\n",
    "                                   f_maps=[32,64,128,256,512],\n",
    "                                   final_sigmoid=False).to(device)\n",
    "\n",
    "model.load_state_dict(torch.load(\"ResidualUNet3D_fold_1_last_epochs.pt\", map_location= device))\n",
    "model.to(device)\n",
    "device"
   ]
  },
  {
   "cell_type": "code",
   "execution_count": 47,
   "id": "387ad17f-c15c-419e-9d4d-9562b841e8d3",
   "metadata": {},
   "outputs": [],
   "source": [
    "model.eval()\n",
    "with torch.no_grad():\n",
    "    pred_mask = (model).forward(torch.tensor(img_new).unsqueeze(0).unsqueeze(0).to(device))\n",
    "    pred_mask = pred_mask[0]"
   ]
  },
  {
   "cell_type": "code",
   "execution_count": 48,
   "id": "24f0cc76-518c-4dbd-b4cb-e36f2c2e99d8",
   "metadata": {},
   "outputs": [],
   "source": [
    "pred_mask.shape\n",
    "import torch.nn.functional as F"
   ]
  },
  {
   "cell_type": "code",
   "execution_count": 49,
   "id": "92d4d3c2-579b-4857-ac89-35a16d4e80b6",
   "metadata": {},
   "outputs": [],
   "source": [
    "pred_mask = F.interpolate(\n",
    "            pred_mask.unsqueeze(0),\n",
    "            size=img.shape,\n",
    "            mode='trilinear',\n",
    "            align_corners=False\n",
    "        )"
   ]
  },
  {
   "cell_type": "code",
   "execution_count": 50,
   "id": "ab1c5161-9d37-42bd-85e1-f84ee18f92ec",
   "metadata": {},
   "outputs": [],
   "source": [
    "pred_mask = pred_mask[0]\n",
    "pred_mask = torch.argmax(pred_mask, dim=0)"
   ]
  },
  {
   "cell_type": "code",
   "execution_count": 51,
   "id": "fced707e-068c-4a9a-8149-0c89c7b8fa3f",
   "metadata": {},
   "outputs": [],
   "source": [
    "pred_mask = pred_mask.to('cpu').numpy()"
   ]
  },
  {
   "cell_type": "code",
   "execution_count": 52,
   "id": "09a5bb2b-bbe8-4dd0-bc49-cd20016431e6",
   "metadata": {},
   "outputs": [
    {
     "data": {
      "application/vnd.jupyter.widget-view+json": {
       "model_id": "2c7027bc9c46427ab8b4676fa57a9bea",
       "version_major": 2,
       "version_minor": 0
      },
      "text/plain": [
       "Container(children=[VBox(children=(HBox(children=(Label(value='levels:'), FloatSlider(value=0.1, max=1.0, step…"
      ]
     },
     "metadata": {},
     "output_type": "display_data"
    }
   ],
   "source": [
    "# Создайте трехмерную визуализацию\n",
    "fig = ipv.figure()\n",
    "\n",
    "# Отобразите объемные данные\n",
    "\n",
    "# vol = ipv.volshow(np.where(real_mask == 3, 1, 0) , lighting=True)\n",
    "vol = ipv.volshow(img , lighting=True)\n",
    "# Добавьте интерактивность (вращение, масштабирование и т.д.)\n",
    "ipv.style.box_off()\n",
    "ipv.style.axes_off()\n",
    "ipv.style.set_style_light()\n",
    "\n",
    "\n",
    "# Покажите визуализацию\n",
    "ipv.show()"
   ]
  },
  {
   "cell_type": "code",
   "execution_count": null,
   "id": "fea7f0e2-1acd-4868-859f-4e46f3b0af47",
   "metadata": {},
   "outputs": [],
   "source": []
  }
 ],
 "metadata": {
  "kernelspec": {
   "display_name": "Python 3 (ipykernel)",
   "language": "python",
   "name": "python3"
  },
  "language_info": {
   "codemirror_mode": {
    "name": "ipython",
    "version": 3
   },
   "file_extension": ".py",
   "mimetype": "text/x-python",
   "name": "python",
   "nbconvert_exporter": "python",
   "pygments_lexer": "ipython3",
   "version": "3.10.7"
  }
 },
 "nbformat": 4,
 "nbformat_minor": 5
}
