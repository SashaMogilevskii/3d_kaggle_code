{
 "cells": [
  {
   "cell_type": "code",
   "execution_count": 1,
   "id": "55c7645d-da26-4a06-8c2f-2a50f5b8f229",
   "metadata": {},
   "outputs": [],
   "source": [
    "import yaml\n",
    "import time\n",
    "import os\n",
    "import datetime\n",
    "import warnings\n",
    "import sys\n",
    "\n",
    "warnings.simplefilter(action='ignore', category=FutureWarning)\n",
    "sys.path.append(\"../pytorch3dunet/unet3d\")\n",
    "sys.path.append(\"../src/utils/\")\n",
    "\n",
    "import torch\n",
    "import numpy as np\n",
    "\n",
    "\n",
    "from torch import nn\n",
    "from box import Box\n",
    "from loguru import logger\n",
    "from tqdm import tqdm\n",
    "from torch.cuda import amp\n",
    "from transformers import get_cosine_with_hard_restarts_schedule_with_warmup\n",
    "\n",
    "\n",
    "import losses\n",
    "from base_scripts import set_seed, create_train_test_loader, create_fold_from_data\n",
    "from my_losses import MyDiceLoss, CategoricalCrossEntropyLoss\n",
    "from my_metrics import print_metric_MeanIoU\n",
    "\n",
    "from model import ResidualUNet3D"
   ]
  },
  {
   "cell_type": "code",
   "execution_count": 2,
   "id": "badff63e-6a6f-4b81-8919-9fc706909603",
   "metadata": {},
   "outputs": [],
   "source": [
    "import os \n",
    "import pydicom\n",
    "import numpy as np \n",
    "import matplotlib.pyplot as plt\n",
    "import ipyvolume as ipv\n",
    "import nibabel as nib"
   ]
  },
  {
   "cell_type": "code",
   "execution_count": 3,
   "id": "80795a82-0fd2-4692-bb09-2e81da601b42",
   "metadata": {},
   "outputs": [],
   "source": [
    "data = create_fold_from_data(\"data_for_segmentation.csv\")\n",
    "train_loader, valid_loader = create_train_test_loader(data=data,\n",
    "                                                          test_fold=1,\n",
    "                                                          size_img=(256,256,96),\n",
    "                                                          path_to_folder_with_imgs=\"C:\\\\KAGGLE\\\\MEDICINE\\\\data\\\\train_images\",\n",
    "                                                          path_to_folder_with_masks=\"C:\\\\KAGGLE\\\\MEDICINE\\\\data\\\\segmentations_numpy\",\n",
    "                                                          typ_augm=\"v1\",\n",
    "                                                          batch_size=1,\n",
    "                                                          num_workers=0\n",
    "                                                          )\n"
   ]
  },
  {
   "cell_type": "code",
   "execution_count": 4,
   "id": "5c5869ac-4911-40c8-8fd2-6ee5abbe4031",
   "metadata": {},
   "outputs": [],
   "source": [
    "device = torch.device('cuda' if torch.cuda.is_available() else 'cpu')"
   ]
  },
  {
   "cell_type": "code",
   "execution_count": 5,
   "id": "8272a6c9-244a-41f2-a64f-d6fcb59d8412",
   "metadata": {},
   "outputs": [
    {
     "data": {
      "text/plain": [
       "device(type='cuda')"
      ]
     },
     "execution_count": 5,
     "metadata": {},
     "output_type": "execute_result"
    }
   ],
   "source": [
    "model = ResidualUNet3D(in_channels=1,\n",
    "                                   out_channels=5,\n",
    "                                   f_maps=[32,64,128,256,512],\n",
    "                                   final_sigmoid=False).to(device)\n",
    "\n",
    "model.load_state_dict(torch.load(\"ResidualUNet3D_fold_1_last_epochs.pt\", map_location= device))\n",
    "model.to(device)\n",
    "device"
   ]
  },
  {
   "cell_type": "code",
   "execution_count": 6,
   "id": "ae107b6f-047c-44f7-8972-c80c9dc19188",
   "metadata": {},
   "outputs": [
    {
     "data": {
      "text/plain": [
       "device(type='cuda')"
      ]
     },
     "execution_count": 6,
     "metadata": {},
     "output_type": "execute_result"
    }
   ],
   "source": [
    "model_v2 = ResidualUNet3D(in_channels=1,\n",
    "                                   out_channels=5,\n",
    "                                   f_maps=[32,64,128,256,512],\n",
    "                                   final_sigmoid=False).to(device)\n",
    "\n",
    "model_v2.load_state_dict(torch.load(\"ResidualUNet3D_fold_1_last_epochs_v2.pt\", map_location= device))\n",
    "model_v2.to(device)\n",
    "device"
   ]
  },
  {
   "cell_type": "code",
   "execution_count": 7,
   "id": "67ae5aa0-f466-4fbf-8418-92a4f49b891e",
   "metadata": {},
   "outputs": [],
   "source": [
    "import random\n",
    "import torch.nn.functional as F"
   ]
  },
  {
   "cell_type": "code",
   "execution_count": 8,
   "id": "adff6f1a-d4d3-47e7-b641-f98e39554a05",
   "metadata": {},
   "outputs": [
    {
     "data": {
      "text/plain": [
       "device(type='cuda')"
      ]
     },
     "execution_count": 8,
     "metadata": {},
     "output_type": "execute_result"
    }
   ],
   "source": [
    "model.eval()\n",
    "model_v2.eval()\n",
    "device"
   ]
  },
  {
   "cell_type": "code",
   "execution_count": 9,
   "id": "75db3e01-5951-4f9d-aac6-b27e6e9b839f",
   "metadata": {},
   "outputs": [],
   "source": [
    "valid_iterator = iter(valid_loader)"
   ]
  },
  {
   "cell_type": "code",
   "execution_count": 73,
   "id": "51f99c17-797d-47b1-901d-9fe669bcae26",
   "metadata": {},
   "outputs": [],
   "source": [
    "batch = next(valid_iterator) \n",
    "with torch.no_grad():\n",
    "    X_batch = batch[0].to(device)\n",
    "    masks_batch = batch[1].to(device)\n",
    "    \n",
    "    pred_masks = model(X_batch).to('cpu')\n",
    "    "
   ]
  },
  {
   "cell_type": "code",
   "execution_count": 74,
   "id": "3f0ae9e0-3792-43d7-833e-115afc00cc7f",
   "metadata": {},
   "outputs": [],
   "source": [
    "with torch.no_grad():\n",
    "    pred_masks_v2 = model_v2(X_batch).to('cpu')"
   ]
  },
  {
   "cell_type": "code",
   "execution_count": 75,
   "id": "1756b69f-930f-4acf-b260-f809d7ff6030",
   "metadata": {},
   "outputs": [],
   "source": [
    "pred_masks = torch.argmax(pred_masks, dim=1)[0].numpy()\n",
    "pred_masks_v2 = torch.argmax(pred_masks_v2, dim=1)[0].numpy()"
   ]
  },
  {
   "cell_type": "code",
   "execution_count": 76,
   "id": "251c06d9-c320-4db0-b2e6-3743a90caf84",
   "metadata": {},
   "outputs": [
    {
     "data": {
      "text/plain": [
       "((256, 256, 96), (256, 256, 96))"
      ]
     },
     "execution_count": 76,
     "metadata": {},
     "output_type": "execute_result"
    }
   ],
   "source": [
    "pred_masks.shape, pred_masks_v2.shape"
   ]
  },
  {
   "cell_type": "code",
   "execution_count": 77,
   "id": "eefcdc10-4f66-4513-9526-3ab0c70cce19",
   "metadata": {},
   "outputs": [],
   "source": [
    "img  =  X_batch[0][0].to('cpu').numpy()\n",
    "real_mask = masks_batch[0].to('cpu').numpy()"
   ]
  },
  {
   "cell_type": "code",
   "execution_count": 91,
   "id": "66226d7d-65dc-45be-b3d0-cf6f9efa109b",
   "metadata": {},
   "outputs": [
    {
     "data": {
      "application/vnd.jupyter.widget-view+json": {
       "model_id": "f341f986cdd34b13916e34ba8315af70",
       "version_major": 2,
       "version_minor": 0
      },
      "text/plain": [
       "Container(children=[VBox(children=(HBox(children=(Label(value='levels:'), FloatSlider(value=0.1, max=1.0, step…"
      ]
     },
     "metadata": {},
     "output_type": "display_data"
    }
   ],
   "source": [
    "# Создайте трехмерную визуализацию\n",
    "fig = ipv.figure()\n",
    "\n",
    "# Отобразите объемные данные\n",
    "# vol = ipv.volshow(np.where(real_mask == 3, 1, 0) , lighting=True)\n",
    "vol = ipv.volshow(np.where(real_mask == 3, 1, 0) + np.where(pred_masks_v2 == 3, 1, 0), lighting=True)\n",
    "# Добавьте интерактивность (вращение, масштабирование и т.д.)\n",
    "ipv.style.box_off()\n",
    "ipv.style.axes_off()\n",
    "ipv.style.set_style_light()\n",
    "\n",
    "\n",
    "# Покажите визуализацию\n",
    "ipv.show()"
   ]
  },
  {
   "cell_type": "code",
   "execution_count": 62,
   "id": "dc84e192-3d96-497c-b21d-b3578ebecebc",
   "metadata": {},
   "outputs": [
    {
     "data": {
      "text/plain": [
       "array([0], dtype=int64)"
      ]
     },
     "execution_count": 62,
     "metadata": {},
     "output_type": "execute_result"
    }
   ],
   "source": [
    "np.unique(pred_masks)"
   ]
  },
  {
   "cell_type": "code",
   "execution_count": null,
   "id": "31b071c6-3cfc-4a76-bd39-297d2c9e2ebb",
   "metadata": {},
   "outputs": [],
   "source": []
  },
  {
   "cell_type": "code",
   "execution_count": null,
   "id": "d74a84ca-b255-4643-83ca-fe7ba12d8ce6",
   "metadata": {},
   "outputs": [],
   "source": []
  }
 ],
 "metadata": {
  "kernelspec": {
   "display_name": "Python 3 (ipykernel)",
   "language": "python",
   "name": "python3"
  },
  "language_info": {
   "codemirror_mode": {
    "name": "ipython",
    "version": 3
   },
   "file_extension": ".py",
   "mimetype": "text/x-python",
   "name": "python",
   "nbconvert_exporter": "python",
   "pygments_lexer": "ipython3",
   "version": "3.10.7"
  }
 },
 "nbformat": 4,
 "nbformat_minor": 5
}
