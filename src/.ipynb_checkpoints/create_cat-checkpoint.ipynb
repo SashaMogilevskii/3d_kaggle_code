{
 "cells": [
  {
   "cell_type": "code",
   "execution_count": 1,
   "metadata": {},
   "outputs": [],
   "source": [
    "import yaml\n",
    "from box import Box\n",
    "from utils.create_data_for_classifier import (create_data_folds_for_classifier, ClassifierDataset)\n",
    "import sys\n",
    "sys.path.append(\"../pytorch3dunet/unet3d\")\n",
    "sys.path.append(\"../src/utils/\")\n",
    "\n",
    "from model import ResidualUNet3D\n",
    "import torch\n",
    "\n",
    "\n",
    "\n",
    "with open(\"configs/config_class.yaml\", \"r\") as f:\n",
    "    config = yaml.load(f, Loader=yaml.SafeLoader)\n",
    "    config = Box(config)\n",
    "\n",
    "\n",
    "\n",
    "config.device = torch.device('cuda' if torch.cuda.is_available() else 'cpu')\n",
    "seg_model = ResidualUNet3D(in_channels=1,\n",
    "                                   out_channels=5,\n",
    "                                   f_maps=[32,64,128,256,512],\n",
    "                                   final_sigmoid=False).to(config.device)\n",
    "\n",
    "seg_model.load_state_dict(torch.load(config.model_path_segmentation, map_location= config.device))\n",
    "seg_model.to(config.device)\n",
    "\n",
    "data = create_data_folds_for_classifier(data_path=config.data_path,\n",
    "                                      label=config.label,\n",
    "                                      debug=config.debug\n",
    "                                      )\n",
    "\n",
    "\n",
    "\n",
    "train_data = data[data.fold != config.test_fold].reset_index(drop=True)\n",
    "test_data = data[data.fold == config.test_fold].reset_index(drop=True)\n",
    "\n"
   ]
  },
  {
   "cell_type": "code",
   "execution_count": 2,
   "metadata": {},
   "outputs": [],
   "source": [
    "import os \n",
    "import pydicom\n",
    "import numpy as np \n",
    "import matplotlib.pyplot as plt\n",
    "import ipyvolume as ipv\n",
    "import nibabel as nib"
   ]
  },
  {
   "cell_type": "code",
   "execution_count": 3,
   "metadata": {
    "collapsed": false,
    "jupyter": {
     "outputs_hidden": false
    }
   },
   "outputs": [],
   "source": [
    "from utils.create_data_for_classifier import (create_data_folds_for_classifier, ClassifierDataset)\n",
    "train_dataset = ClassifierDataset(data=train_data,\n",
    "                                 seg_model=seg_model,\n",
    "                                 size=(128, 128, 128),\n",
    "                                 path_to_folder_with_imgs=config.path_to_folder_with_imgs,\n",
    "                                 label=\"kidney\",\n",
    "                                 padding=5,\n",
    "                                  device=config.device,\n",
    "                                  size_seg=config.size\n",
    "                                 )"
   ]
  },
  {
   "cell_type": "code",
   "execution_count": 4,
   "metadata": {},
   "outputs": [],
   "source": [
    "import random\n"
   ]
  },
  {
   "cell_type": "code",
   "execution_count": 5,
   "metadata": {},
   "outputs": [],
   "source": [
    "# ind = 67"
   ]
  },
  {
   "cell_type": "code",
   "execution_count": 10,
   "metadata": {},
   "outputs": [
    {
     "name": "stdout",
     "output_type": "stream",
     "text": [
      "52\n",
      "CPU times: total: 26.3 s\n",
      "Wall time: 34.1 s\n"
     ]
    }
   ],
   "source": [
    "%%time\n",
    "ind = random.randint(0, len(train_dataset))\n",
    "print(ind)\n",
    "batch = train_dataset[ind]"
   ]
  },
  {
   "cell_type": "code",
   "execution_count": 11,
   "metadata": {},
   "outputs": [],
   "source": [
    "img_box = batch[0]"
   ]
  },
  {
   "cell_type": "code",
   "execution_count": 12,
   "metadata": {},
   "outputs": [
    {
     "data": {
      "text/plain": [
       "(128, 128, 128)"
      ]
     },
     "execution_count": 12,
     "metadata": {},
     "output_type": "execute_result"
    }
   ],
   "source": [
    "img_box.shape"
   ]
  },
  {
   "cell_type": "code",
   "execution_count": 13,
   "metadata": {},
   "outputs": [
    {
     "data": {
      "application/vnd.jupyter.widget-view+json": {
       "model_id": "6647a0e428724661b50a7af462c51f49",
       "version_major": 2,
       "version_minor": 0
      },
      "text/plain": [
       "Container(children=[VBox(children=(HBox(children=(Label(value='levels:'), FloatSlider(value=0.1, max=1.0, step…"
      ]
     },
     "metadata": {},
     "output_type": "display_data"
    }
   ],
   "source": [
    "# Создайте трехмерную визуализацию\n",
    "fig = ipv.figure()\n",
    "\n",
    "# Отобразите объемные данные\n",
    "# vol = ipv.volshow(np.where(real_mask == 3, 1, 0) , lighting=True)\n",
    "vol = ipv.volshow(img_box , lighting=True)\n",
    "# Добавьте интерактивность (вращение, масштабирование и т.д.)\n",
    "ipv.style.box_off()\n",
    "ipv.style.axes_off()\n",
    "ipv.style.set_style_light()\n",
    "\n",
    "\n",
    "# Покажите визуализацию\n",
    "ipv.show()"
   ]
  },
  {
   "cell_type": "code",
   "execution_count": null,
   "metadata": {},
   "outputs": [],
   "source": []
  },
  {
   "cell_type": "code",
   "execution_count": null,
   "metadata": {
    "collapsed": false,
    "jupyter": {
     "outputs_hidden": false
    }
   },
   "outputs": [],
   "source": []
  }
 ],
 "metadata": {
  "kernelspec": {
   "display_name": "Python 3 (ipykernel)",
   "language": "python",
   "name": "python3"
  },
  "language_info": {
   "codemirror_mode": {
    "name": "ipython",
    "version": 3
   },
   "file_extension": ".py",
   "mimetype": "text/x-python",
   "name": "python",
   "nbconvert_exporter": "python",
   "pygments_lexer": "ipython3",
   "version": "3.10.7"
  }
 },
 "nbformat": 4,
 "nbformat_minor": 4
}
