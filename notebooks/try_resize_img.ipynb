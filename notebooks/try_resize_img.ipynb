{
 "cells": [
  {
   "cell_type": "code",
   "execution_count": 1,
   "id": "e4996abc-197a-45b9-bde5-9ef319cd5900",
   "metadata": {},
   "outputs": [],
   "source": [
    "import os \n",
    "import pydicom\n",
    "import numpy as np \n",
    "import matplotlib.pyplot as plt\n",
    "import ipyvolume as ipv\n",
    "import nibabel as nib"
   ]
  },
  {
   "cell_type": "code",
   "execution_count": 2,
   "id": "4d2d50ab-8666-4f37-a396-97974eb3ff9c",
   "metadata": {},
   "outputs": [],
   "source": [
    "import sys \n",
    "sys.path.append(\"../src/utils/\")\n",
    "from scripts_read_imgs import process"
   ]
  },
  {
   "cell_type": "code",
   "execution_count": 3,
   "id": "30122857-3868-42f4-b47d-ddbe0529a7e8",
   "metadata": {},
   "outputs": [],
   "source": [
    "name = 51033"
   ]
  },
  {
   "cell_type": "code",
   "execution_count": 15,
   "id": "4dfc1feb-69e0-4a74-ae96-fd1291d74155",
   "metadata": {},
   "outputs": [],
   "source": [
    "dicom_folder  = r\"C:\\KAGGLE\\MEDICINE\\data\\train_images\\10004\\51033\"\n",
    "img_new = process(data_path=dicom_folder, size=512)\n",
    "img = img_new"
   ]
  },
  {
   "cell_type": "code",
   "execution_count": 6,
   "id": "546dbbf6-595e-4c8e-8ccb-d876ce2230d2",
   "metadata": {},
   "outputs": [],
   "source": [
    "new_path_to_save = os.path.join(r\"C:\\KAGGLE\\MEDICINE\\data\\segmentations_numpy\", str(name) + \".npy\")\n",
    "mask_data = np.load(new_path_to_save)\n"
   ]
  },
  {
   "cell_type": "code",
   "execution_count": 16,
   "id": "10181eb3-8f21-4ae2-9d81-9966c911e1bc",
   "metadata": {},
   "outputs": [
    {
     "data": {
      "text/plain": [
       "((512, 512, 1044), (512, 512, 1044))"
      ]
     },
     "execution_count": 16,
     "metadata": {},
     "output_type": "execute_result"
    }
   ],
   "source": [
    "img.shape, mask_data.shape"
   ]
  },
  {
   "cell_type": "code",
   "execution_count": 8,
   "id": "6510a589-9a8d-42e1-adf3-6a3c6d8b73c7",
   "metadata": {},
   "outputs": [],
   "source": [
    "from volumentations import *"
   ]
  },
  {
   "cell_type": "code",
   "execution_count": 71,
   "id": "086df729-41b6-4397-bebf-2d3b469600fc",
   "metadata": {},
   "outputs": [],
   "source": [
    "def get_augmentation(patch_size):\n",
    "    return Compose([\n",
    "        Resize(patch_size, interpolation=3, resize_type=0, always_apply=True, p=1.0),\n",
    "        Flip(0, p=0.5),\n",
    "        Flip(1, p=0.5),\n",
    "        Flip(2, p=0.5),\n",
    "        GaussianNoise(var_limit=(0, 0.25), p=1),\n",
    "        # RandomGamma(gamma_limit=(80, 120), p=1)\n",
    "    ], p=1.0)"
   ]
  },
  {
   "cell_type": "code",
   "execution_count": 72,
   "id": "e5424452-6f73-41b1-84ba-6c85f019b56c",
   "metadata": {},
   "outputs": [],
   "source": [
    "aug = get_augmentation((128, 128, 128))"
   ]
  },
  {
   "cell_type": "code",
   "execution_count": 73,
   "id": "48765caa-158f-4f71-a62b-98b5d0a67000",
   "metadata": {},
   "outputs": [],
   "source": [
    "data = {'image': img, 'mask': mask_data}\n",
    "aug_data = aug(**data)"
   ]
  },
  {
   "cell_type": "code",
   "execution_count": 74,
   "id": "439a8683-1c6a-4a6a-876f-d01c64bcc61e",
   "metadata": {},
   "outputs": [],
   "source": [
    "img_new, mask_new = aug_data['image'], aug_data['mask']"
   ]
  },
  {
   "cell_type": "code",
   "execution_count": 75,
   "id": "631555b8-ac89-4259-af8b-e9417fc260ce",
   "metadata": {},
   "outputs": [
    {
     "data": {
      "application/vnd.jupyter.widget-view+json": {
       "model_id": "d27397b2bf9247209f83e20f65117fcf",
       "version_major": 2,
       "version_minor": 0
      },
      "text/plain": [
       "Container(children=[VBox(children=(HBox(children=(Label(value='levels:'), FloatSlider(value=0.1, max=1.0, step…"
      ]
     },
     "metadata": {},
     "output_type": "display_data"
    }
   ],
   "source": [
    "# Создайте трехмерную визуализацию\n",
    "fig = ipv.figure()\n",
    "\n",
    "# Отобразите объемные данные\n",
    "# vol = ipv.volshow( img +  mask_data, lighting=True)\n",
    "vol = ipv.volshow( img_new + np.where(mask_new == 3, 1, 0), lighting=True)\n",
    "# Добавьте интерактивность (вращение, масштабирование и т.д.)\n",
    "ipv.style.box_off()\n",
    "ipv.style.axes_off()\n",
    "ipv.style.set_style_light()\n",
    "\n",
    "# Покажите визуализацию\n",
    "ipv.show()"
   ]
  },
  {
   "cell_type": "code",
   "execution_count": null,
   "id": "a47a131b-16cc-458e-8c9a-c4b533ef2adc",
   "metadata": {},
   "outputs": [],
   "source": [
    "np.unique(mask_new)"
   ]
  },
  {
   "cell_type": "code",
   "execution_count": null,
   "id": "929aa98e-a5e1-4ed3-9560-46e6edde2155",
   "metadata": {},
   "outputs": [],
   "source": [
    "# condition = ((mask_new != 3) )\n",
    "# mask_data = np.where(condition, 0, 10) \n",
    "# # Создайте трехмерную визуализацию\n",
    "# fig = ipv.figure()\n",
    "\n",
    "# # Отобразите объемные данные\n",
    "# # vol = ipv.volshow( img +  mask_data, lighting=True)\n",
    "# vol = ipv.volshow( img_new + mask_data, lighting=True)\n",
    "# # Добавьте интерактивность (вращение, масштабирование и т.д.)\n",
    "# ipv.style.box_off()\n",
    "# ipv.style.axes_off()\n",
    "# ipv.style.set_style_light()\n",
    "\n",
    "# # Покажите визуализацию\n",
    "# ipv.show()"
   ]
  },
  {
   "cell_type": "code",
   "execution_count": null,
   "id": "d78458f2-6ebd-46a1-a2db-c9e2ccb1395f",
   "metadata": {},
   "outputs": [],
   "source": [
    "img_new.shape"
   ]
  },
  {
   "cell_type": "code",
   "execution_count": null,
   "id": "a17b7808-47ee-455e-a2bb-0dcdbfad27c9",
   "metadata": {
    "pycharm": {
     "is_executing": true
    }
   },
   "outputs": [],
   "source": [
    "1"
   ]
  },
  {
   "cell_type": "code",
   "execution_count": null,
   "id": "3c3a2754",
   "metadata": {
    "collapsed": false,
    "jupyter": {
     "outputs_hidden": false
    }
   },
   "outputs": [],
   "source": []
  }
 ],
 "metadata": {
  "kernelspec": {
   "display_name": "Python 3 (ipykernel)",
   "language": "python",
   "name": "python3"
  },
  "language_info": {
   "codemirror_mode": {
    "name": "ipython",
    "version": 3
   },
   "file_extension": ".py",
   "mimetype": "text/x-python",
   "name": "python",
   "nbconvert_exporter": "python",
   "pygments_lexer": "ipython3",
   "version": "3.10.7"
  }
 },
 "nbformat": 4,
 "nbformat_minor": 5
}
