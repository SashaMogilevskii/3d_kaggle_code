{
 "cells": [
  {
   "cell_type": "code",
   "execution_count": 6,
   "id": "7c3ab938-270c-4529-96d7-e7b7a5174df2",
   "metadata": {},
   "outputs": [],
   "source": [
    "import os\n",
    "import pandas as pd\n",
    "import nibabel as nib\n",
    "from tqdm import tqdm"
   ]
  },
  {
   "cell_type": "code",
   "execution_count": 7,
   "id": "6b687b09-ffda-42e5-bc63-e46be8d8c1a0",
   "metadata": {},
   "outputs": [
    {
     "name": "stderr",
     "output_type": "stream",
     "text": [
      "100%|██████████| 206/206 [16:34<00:00,  4.83s/it]\n"
     ]
    }
   ],
   "source": [
    "lst_seg = os.listdir(r\"C:\\KAGGLE\\MEDICINE\\data\\segmentations\")\n",
    "lst_with_size = []\n",
    "lst_img = []\n",
    "for img in tqdm(lst_seg):\n",
    "    nii_image = nib.load(f'C:\\KAGGLE\\MEDICINE\\data\\segmentations\\{img}')\n",
    "    header = nii_image.header\n",
    "    image_data = nii_image.get_fdata()\n",
    "    \n",
    "    lst_with_size.append(image_data.shape)\n",
    "    lst_img.append(img)"
   ]
  },
  {
   "cell_type": "code",
   "execution_count": 9,
   "id": "2e135cd5-10fa-437d-a9ac-9d67d4b95658",
   "metadata": {},
   "outputs": [
    {
     "name": "stderr",
     "output_type": "stream",
     "text": [
      "100%|██████████| 128/128 [00:01<00:00, 76.48it/s]\n"
     ]
    }
   ],
   "source": [
    "lst_d1 = []\n",
    "lst_d2 = []\n",
    "lst_count_layer = []\n",
    "for d1 in tqdm(os.listdir(r\"C:\\KAGGLE\\MEDICINE\\data\\train_images\")):\n",
    "    for d2 in os.listdir(os.path.join(r\"C:\\KAGGLE\\MEDICINE\\data\\train_images\", d1)):\n",
    "        count_layer = len(os.listdir(os.path.join(r\"C:\\KAGGLE\\MEDICINE\\data\\train_images\", d1, d2)))\n",
    "        lst_d1.append(d1)\n",
    "        lst_d2.append(d2)\n",
    "        lst_count_layer.append(count_layer)"
   ]
  },
  {
   "cell_type": "code",
   "execution_count": 10,
   "id": "742f68a4-2354-4ebe-9699-5fe127cfeba4",
   "metadata": {},
   "outputs": [],
   "source": [
    "data_1 = pd.DataFrame({\n",
    "    \"patient_id\": lst_d1,\n",
    "    \"series_id\": lst_d2,\n",
    "    \"count_layer\": lst_count_layer\n",
    "    \n",
    "})\n",
    "\n",
    "data_2 = pd.DataFrame({\n",
    "    \"series_id\": lst_img,\n",
    "    \"size\": lst_with_size,\n",
    "\n",
    "    \n",
    "})"
   ]
  },
  {
   "cell_type": "code",
   "execution_count": 11,
   "id": "53e3e14c-1de2-4d0a-b3e7-9f16d82c2420",
   "metadata": {},
   "outputs": [
    {
     "data": {
      "text/plain": [
       "same\n",
       "True    206\n",
       "Name: count, dtype: int64"
      ]
     },
     "execution_count": 11,
     "metadata": {},
     "output_type": "execute_result"
    }
   ],
   "source": [
    "data_2[\"series_id\"] = data_2[\"series_id\"].apply(lambda x: x[:-4])\n",
    "data_2[\"count_layers_seg\"] = data_2[\"size\"].apply(lambda x: x[2])\n",
    "merged_data = data_1.merge(data_2, on='series_id', how='left')\n",
    "merged_data[~merged_data.count_layers_seg.isna()]\n",
    "t = merged_data[~merged_data.count_layers_seg.isna()]\n",
    "t['same'] = t['count_layers_seg'] == t['count_layer']\n",
    "t['same'].value_counts()"
   ]
  },
  {
   "cell_type": "code",
   "execution_count": 12,
   "id": "6eec0c61-ddd3-4345-94d5-2edbac22286c",
   "metadata": {},
   "outputs": [
    {
     "data": {
      "text/html": [
       "<div>\n",
       "<style scoped>\n",
       "    .dataframe tbody tr th:only-of-type {\n",
       "        vertical-align: middle;\n",
       "    }\n",
       "\n",
       "    .dataframe tbody tr th {\n",
       "        vertical-align: top;\n",
       "    }\n",
       "\n",
       "    .dataframe thead th {\n",
       "        text-align: right;\n",
       "    }\n",
       "</style>\n",
       "<table border=\"1\" class=\"dataframe\">\n",
       "  <thead>\n",
       "    <tr style=\"text-align: right;\">\n",
       "      <th></th>\n",
       "      <th>patient_id</th>\n",
       "      <th>series_id</th>\n",
       "      <th>count_layer</th>\n",
       "      <th>size</th>\n",
       "      <th>count_layers_seg</th>\n",
       "      <th>same</th>\n",
       "    </tr>\n",
       "  </thead>\n",
       "  <tbody>\n",
       "    <tr>\n",
       "      <th>0</th>\n",
       "      <td>10004</td>\n",
       "      <td>21057</td>\n",
       "      <td>1022</td>\n",
       "      <td>(512, 512, 1022)</td>\n",
       "      <td>1022</td>\n",
       "      <td>True</td>\n",
       "    </tr>\n",
       "    <tr>\n",
       "      <th>1</th>\n",
       "      <td>10004</td>\n",
       "      <td>51033</td>\n",
       "      <td>1044</td>\n",
       "      <td>(512, 512, 1044)</td>\n",
       "      <td>1044</td>\n",
       "      <td>True</td>\n",
       "    </tr>\n",
       "    <tr>\n",
       "      <th>2</th>\n",
       "      <td>10217</td>\n",
       "      <td>16066</td>\n",
       "      <td>690</td>\n",
       "      <td>(512, 512, 690)</td>\n",
       "      <td>690</td>\n",
       "      <td>True</td>\n",
       "    </tr>\n",
       "    <tr>\n",
       "      <th>3</th>\n",
       "      <td>10228</td>\n",
       "      <td>30522</td>\n",
       "      <td>747</td>\n",
       "      <td>(512, 512, 747)</td>\n",
       "      <td>747</td>\n",
       "      <td>True</td>\n",
       "    </tr>\n",
       "    <tr>\n",
       "      <th>4</th>\n",
       "      <td>10228</td>\n",
       "      <td>40471</td>\n",
       "      <td>391</td>\n",
       "      <td>(512, 512, 391)</td>\n",
       "      <td>391</td>\n",
       "      <td>True</td>\n",
       "    </tr>\n",
       "  </tbody>\n",
       "</table>\n",
       "</div>"
      ],
      "text/plain": [
       "  patient_id series_id  count_layer              size  count_layers_seg  same\n",
       "0      10004     21057         1022  (512, 512, 1022)              1022  True\n",
       "1      10004     51033         1044  (512, 512, 1044)              1044  True\n",
       "2      10217     16066          690   (512, 512, 690)               690  True\n",
       "3      10228     30522          747   (512, 512, 747)               747  True\n",
       "4      10228     40471          391   (512, 512, 391)               391  True"
      ]
     },
     "execution_count": 12,
     "metadata": {},
     "output_type": "execute_result"
    }
   ],
   "source": [
    "t.head()"
   ]
  },
  {
   "cell_type": "code",
   "execution_count": 14,
   "id": "367f3421-81cc-45dc-8786-baa373c43b2d",
   "metadata": {},
   "outputs": [],
   "source": [
    "t.to_csv(\"data_for_segmentation.csv\", index=False)"
   ]
  },
  {
   "cell_type": "code",
   "execution_count": null,
   "id": "ce466095-0dde-4468-a952-1ae6b22ab260",
   "metadata": {},
   "outputs": [],
   "source": []
  },
  {
   "cell_type": "code",
   "execution_count": null,
   "id": "d72102f8-50b1-4867-864d-68b6fc44f03b",
   "metadata": {},
   "outputs": [],
   "source": []
  },
  {
   "cell_type": "code",
   "execution_count": null,
   "id": "9ef123f9-fcd3-4500-a05e-5695ec08c9b6",
   "metadata": {},
   "outputs": [],
   "source": []
  },
  {
   "cell_type": "code",
   "execution_count": null,
   "id": "f7ae7a5e-638e-47d9-b68f-435301aa90d2",
   "metadata": {},
   "outputs": [],
   "source": []
  }
 ],
 "metadata": {
  "kernelspec": {
   "display_name": "Python 3 (ipykernel)",
   "language": "python",
   "name": "python3"
  },
  "language_info": {
   "codemirror_mode": {
    "name": "ipython",
    "version": 3
   },
   "file_extension": ".py",
   "mimetype": "text/x-python",
   "name": "python",
   "nbconvert_exporter": "python",
   "pygments_lexer": "ipython3",
   "version": "3.10.7"
  }
 },
 "nbformat": 4,
 "nbformat_minor": 5
}
