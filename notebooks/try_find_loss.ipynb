{
 "cells": [
  {
   "cell_type": "code",
   "execution_count": 12,
   "id": "e4996abc-197a-45b9-bde5-9ef319cd5900",
   "metadata": {},
   "outputs": [],
   "source": [
    "sys.path.append(\"../pytorch3dunet/unet3d\")\n",
    "sys.path.append(\"../src/utils/\")\n",
    "\n",
    "\n",
    "import pydicom\n",
    "import numpy as np\n",
    "import matplotlib.pyplot as plt\n",
    "\n",
    "import torch.nn.functional as F\n",
    "\n",
    "from tqdm import tqdm\n",
    "from model import ResidualUNet3D\n",
    "from metrics import DiceCoefficient, MeanIoU\n",
    "from my_losses import MyDiceLoss, CategoricalCrossEntropyLoss\n",
    "from base_scripts import create_fold_from_data, SegmDataset\n",
    "\n",
    "import ipyvolume as ipv\n",
    "import nibabel as nib\n",
    "import torch\n",
    "\n",
    "\n",
    "import os\n",
    "import random\n",
    "import sys"
   ]
  },
  {
   "cell_type": "code",
   "execution_count": 2,
   "id": "316329af-bdf8-45b6-8aab-9d3e04ad2620",
   "metadata": {},
   "outputs": [],
   "source": [
    "from losses import DiceLoss"
   ]
  },
  {
   "cell_type": "code",
   "execution_count": 3,
   "id": "5b716472-f7fb-4f30-9484-89c78c9f14e6",
   "metadata": {},
   "outputs": [],
   "source": [
    "df = create_fold_from_data(\n",
    "    path_data=\"../src/data_for_segmentation.csv\",\n",
    ")"
   ]
  },
  {
   "cell_type": "code",
   "execution_count": 4,
   "id": "203c4223-6414-41f1-b54c-871869c725e3",
   "metadata": {},
   "outputs": [],
   "source": [
    "dataset = SegmDataset(\n",
    "    data=df,\n",
    "    is_train=True,\n",
    "    size=(128, 128, 64),\n",
    "    path_to_folder_with_imgs=r\"C:\\KAGGLE\\MEDICINE\\data\\train_images\",\n",
    "    path_to_folder_with_masks=r\"C:\\KAGGLE\\MEDICINE\\data\\segmentations\",\n",
    "    typ_augm=\"v1\",\n",
    ")"
   ]
  },
  {
   "cell_type": "markdown",
   "id": "4294c8d7-6e71-4011-91de-609ae2ec0132",
   "metadata": {},
   "source": [
    "# My custom loss "
   ]
  },
  {
   "cell_type": "code",
   "execution_count": 5,
   "id": "8228975a-9293-45a1-827e-650fd02c634a",
   "metadata": {},
   "outputs": [],
   "source": [
    "model = ResidualUNet3D(\n",
    "    in_channels=1, out_channels=5, f_maps=[16, 32, 64, 128, 256], final_sigmoid=False\n",
    ")\n",
    "device = torch.device(\"cuda\" if torch.cuda.is_available() else \"cpu\")\n",
    "model.to(device)\n",
    "device\n",
    "optimizer = torch.optim.Adam(model.parameters(), lr=0.0005)\n",
    "loss_fn = MyDiceLoss()"
   ]
  },
  {
   "cell_type": "code",
   "execution_count": 7,
   "id": "54295248-4a31-467a-b56c-218ea6f7a701",
   "metadata": {},
   "outputs": [
    {
     "name": "stdout",
     "output_type": "stream",
     "text": [
      "loss MyDiceLoss()\n",
      "TRAIN 1 loss tensor(0.8803, device='cuda:0', grad_fn=<RsubBackward1>)\n",
      "TEST 10 loss 0 tensor(0.9076, device='cuda:0')\n",
      "TRAIN 1 loss tensor(0.8624, device='cuda:0', grad_fn=<RsubBackward1>)\n",
      "TEST 10 loss 1 tensor(0.9040, device='cuda:0')\n",
      "TRAIN 1 loss tensor(0.8449, device='cuda:0', grad_fn=<RsubBackward1>)\n",
      "TEST 10 loss 2 tensor(0.9006, device='cuda:0')\n",
      "TRAIN 1 loss tensor(0.8293, device='cuda:0', grad_fn=<RsubBackward1>)\n",
      "TEST 10 loss 3 tensor(0.8971, device='cuda:0')\n",
      "TRAIN 1 loss tensor(0.8137, device='cuda:0', grad_fn=<RsubBackward1>)\n",
      "TEST 10 loss 4 tensor(0.8936, device='cuda:0')\n"
     ]
    }
   ],
   "source": [
    "list_y_true = None\n",
    "list_y_pred = None\n",
    "print(\"loss\", loss_fn)\n",
    "for i in range(5):\n",
    "    model.train()\n",
    "    ind = 1\n",
    "    img, mask = dataset[ind]\n",
    "    tensor_mask = torch.Tensor(mask).unsqueeze(0).to(device)\n",
    "    tensor_img = torch.Tensor(img).unsqueeze(0).unsqueeze(0).to(device)\n",
    "    optimizer.zero_grad()\n",
    "    pred = model.forward(tensor_img)\n",
    "\n",
    "    # predicted_probs = pred\n",
    "\n",
    "    # tensor_mask = F.one_hot(tensor_mask.long(), num_classes=predicted_probs.long().shape[1]).permute(0, 4, 1, 2, 3).float()\n",
    "\n",
    "    loss = loss_fn(pred, tensor_mask.long())\n",
    "\n",
    "    print(\"TRAIN\", ind, \"loss\", loss)\n",
    "    loss.backward()\n",
    "    optimizer.step()\n",
    "\n",
    "    model.eval()\n",
    "    with torch.no_grad():\n",
    "        ind = 10\n",
    "        img, mask = dataset[ind]\n",
    "        tensor_mask = torch.Tensor(mask).unsqueeze(0).to(device)\n",
    "        tensor_img = torch.Tensor(img).unsqueeze(0).unsqueeze(0).to(device)\n",
    "        # tensor_mask = F.one_hot(tensor_mask.long(), num_classes=predicted_probs.long().shape[1]).permute(0, 4, 1, 2, 3).float()\n",
    "\n",
    "        pred = model.forward(tensor_img)\n",
    "\n",
    "        # predicted_probs = pred\n",
    "        loss = loss_fn(pred, tensor_mask.long())\n",
    "\n",
    "        y_preds = pred.to(\"cpu\").numpy()\n",
    "\n",
    "        target_one_hot = tensor_mask\n",
    "        mask = target_one_hot.to(\"cpu\").numpy()\n",
    "        if list_y_pred is None:\n",
    "            list_y_pred = y_preds\n",
    "            list_y_true = mask\n",
    "\n",
    "        else:\n",
    "            list_y_pred = np.vstack((list_y_pred, y_preds))\n",
    "            list_y_true = np.vstack((list_y_true, mask))\n",
    "        print(\"TEST\", ind, \"loss\", i, loss)"
   ]
  },
  {
   "cell_type": "markdown",
   "id": "0fed6458-7682-41c3-8947-382fb8571838",
   "metadata": {},
   "source": [
    " # CategoricalCrossEntropyLoss"
   ]
  },
  {
   "cell_type": "code",
   "execution_count": 8,
   "id": "ef378488-5f12-44b7-b310-a42587262ead",
   "metadata": {},
   "outputs": [
    {
     "name": "stdout",
     "output_type": "stream",
     "text": [
      "loss CategoricalCrossEntropyLoss()\n",
      "TRAIN 1 loss tensor(nan, device='cuda:0', grad_fn=<NllLoss2DBackward0>)\n",
      "TEST 10 loss 0 tensor(1.4726, device='cuda:0')\n",
      "TRAIN 1 loss tensor(nan, device='cuda:0', grad_fn=<NllLoss2DBackward0>)\n",
      "TEST 10 loss 1 tensor(1.4366, device='cuda:0')\n",
      "TRAIN 1 loss tensor(nan, device='cuda:0', grad_fn=<NllLoss2DBackward0>)\n",
      "TEST 10 loss 2 tensor(1.3801, device='cuda:0')\n",
      "TRAIN 1 loss tensor(nan, device='cuda:0', grad_fn=<NllLoss2DBackward0>)\n",
      "TEST 10 loss 3 tensor(1.3454, device='cuda:0')\n",
      "TRAIN 1 loss tensor(nan, device='cuda:0', grad_fn=<NllLoss2DBackward0>)\n",
      "TEST 10 loss 4 tensor(1.4178, device='cuda:0')\n",
      "TRAIN 1 loss tensor(nan, device='cuda:0', grad_fn=<NllLoss2DBackward0>)\n",
      "TEST 10 loss 5 tensor(1.4303, device='cuda:0')\n",
      "TRAIN 1 loss tensor(nan, device='cuda:0', grad_fn=<NllLoss2DBackward0>)\n",
      "TEST 10 loss 6 tensor(1.4297, device='cuda:0')\n",
      "TRAIN 1 loss tensor(nan, device='cuda:0', grad_fn=<NllLoss2DBackward0>)\n",
      "TEST 10 loss 7 tensor(1.4139, device='cuda:0')\n",
      "TRAIN 1 loss tensor(nan, device='cuda:0', grad_fn=<NllLoss2DBackward0>)\n",
      "TEST 10 loss 8 tensor(1.3930, device='cuda:0')\n",
      "TRAIN 1 loss tensor(nan, device='cuda:0', grad_fn=<NllLoss2DBackward0>)\n",
      "TEST 10 loss 9 tensor(1.3630, device='cuda:0')\n"
     ]
    }
   ],
   "source": [
    "model = ResidualUNet3D(\n",
    "    in_channels=1, out_channels=5, f_maps=[16, 32, 64, 128, 256], final_sigmoid=False\n",
    ")\n",
    "device = torch.device(\"cuda\" if torch.cuda.is_available() else \"cpu\")\n",
    "model.to(device)\n",
    "device\n",
    "optimizer = torch.optim.Adam(model.parameters(), lr=0.0005)\n",
    "loss_fn = CategoricalCrossEntropyLoss()\n",
    "\n",
    "list_y_true = None\n",
    "list_y_pred = None\n",
    "print(\"loss\", loss_fn)\n",
    "for i in range(10):\n",
    "    model.train()\n",
    "    ind = 1\n",
    "    img, mask = dataset[ind]\n",
    "    tensor_mask = torch.Tensor(mask).unsqueeze(0).to(device)\n",
    "    tensor_img = torch.Tensor(img).unsqueeze(0).unsqueeze(0).to(device)\n",
    "    optimizer.zero_grad()\n",
    "    pred = model.forward(tensor_img)\n",
    "\n",
    "    # predicted_probs = pred\n",
    "\n",
    "    # tensor_mask = F.one_hot(tensor_mask.long(), num_classes=predicted_probs.long().shape[1]).permute(0, 4, 1, 2, 3).float()\n",
    "\n",
    "    loss = loss_fn(pred, tensor_mask.long())\n",
    "\n",
    "    print(\"TRAIN\", ind, \"loss\", loss)\n",
    "    loss.backward()\n",
    "    optimizer.step()\n",
    "\n",
    "    model.eval()\n",
    "    with torch.no_grad():\n",
    "        ind = 10\n",
    "        img, mask = dataset[ind]\n",
    "        tensor_mask = torch.Tensor(mask).unsqueeze(0).to(device)\n",
    "        tensor_img = torch.Tensor(img).unsqueeze(0).unsqueeze(0).to(device)\n",
    "        # tensor_mask = F.one_hot(tensor_mask.long(), num_classes=predicted_probs.long().shape[1]).permute(0, 4, 1, 2, 3).float()\n",
    "\n",
    "        pred = model.forward(tensor_img)\n",
    "\n",
    "        # predicted_probs = pred\n",
    "        loss = loss_fn(pred, tensor_mask.long())\n",
    "\n",
    "        y_preds = pred.to(\"cpu\").numpy()\n",
    "\n",
    "        target_one_hot = tensor_mask\n",
    "        mask = target_one_hot.to(\"cpu\").numpy()\n",
    "        if list_y_pred is None:\n",
    "            list_y_pred = y_preds\n",
    "            list_y_true = mask\n",
    "\n",
    "        else:\n",
    "            list_y_pred = np.vstack((list_y_pred, y_preds))\n",
    "            list_y_true = np.vstack((list_y_true, mask))\n",
    "        print(\"TEST\", ind, \"loss\", i, loss)"
   ]
  },
  {
   "cell_type": "markdown",
   "id": "133532ab-5bea-4da0-b521-94b7ade1283d",
   "metadata": {},
   "source": [
    " # DiceLoss"
   ]
  },
  {
   "cell_type": "code",
   "execution_count": 1,
   "id": "becf4bd6-4c94-4c63-9c27-371492105267",
   "metadata": {},
   "outputs": [
    {
     "ename": "NameError",
     "evalue": "name 'ResidualUNet3D' is not defined",
     "output_type": "error",
     "traceback": [
      "\u001B[1;31m---------------------------------------------------------------------------\u001B[0m",
      "\u001B[1;31mNameError\u001B[0m                                 Traceback (most recent call last)",
      "Cell \u001B[1;32mIn[1], line 1\u001B[0m\n\u001B[1;32m----> 1\u001B[0m model \u001B[38;5;241m=\u001B[39m \u001B[43mResidualUNet3D\u001B[49m(\n\u001B[0;32m      2\u001B[0m     in_channels\u001B[38;5;241m=\u001B[39m\u001B[38;5;241m1\u001B[39m, out_channels\u001B[38;5;241m=\u001B[39m\u001B[38;5;241m5\u001B[39m, f_maps\u001B[38;5;241m=\u001B[39m[\u001B[38;5;241m16\u001B[39m, \u001B[38;5;241m32\u001B[39m, \u001B[38;5;241m64\u001B[39m, \u001B[38;5;241m128\u001B[39m, \u001B[38;5;241m256\u001B[39m], final_sigmoid\u001B[38;5;241m=\u001B[39m\u001B[38;5;28;01mFalse\u001B[39;00m\n\u001B[0;32m      3\u001B[0m )\n\u001B[0;32m      4\u001B[0m device \u001B[38;5;241m=\u001B[39m torch\u001B[38;5;241m.\u001B[39mdevice(\u001B[38;5;124m\"\u001B[39m\u001B[38;5;124mcuda\u001B[39m\u001B[38;5;124m\"\u001B[39m \u001B[38;5;28;01mif\u001B[39;00m torch\u001B[38;5;241m.\u001B[39mcuda\u001B[38;5;241m.\u001B[39mis_available() \u001B[38;5;28;01melse\u001B[39;00m \u001B[38;5;124m\"\u001B[39m\u001B[38;5;124mcpu\u001B[39m\u001B[38;5;124m\"\u001B[39m)\n\u001B[0;32m      5\u001B[0m model\u001B[38;5;241m.\u001B[39mto(device)\n",
      "\u001B[1;31mNameError\u001B[0m: name 'ResidualUNet3D' is not defined"
     ]
    }
   ],
   "source": [
    "model = ResidualUNet3D(\n",
    "    in_channels=1, out_channels=5, f_maps=[16, 32, 64, 128, 256], final_sigmoid=False\n",
    ")\n",
    "device = torch.device(\"cuda\" if torch.cuda.is_available() else \"cpu\")\n",
    "model.to(device)\n",
    "device\n",
    "optimizer = torch.optim.Adam(model.parameters(), lr=0.0005)\n",
    "loss_fn = DiceLoss(normalization=\"softmax\", num_classes=5)\n",
    "\n",
    "list_y_true = None\n",
    "list_y_pred = None\n",
    "print(\"loss\", loss_fn)\n",
    "for i in range(10):\n",
    "    model.train()\n",
    "    ind = 1\n",
    "    img, mask = dataset[ind]\n",
    "    tensor_mask = torch.Tensor(mask).unsqueeze(0).to(device)\n",
    "    tensor_img = torch.Tensor(img).unsqueeze(0).unsqueeze(0).to(device)\n",
    "    optimizer.zero_grad()\n",
    "    pred = model.forward(tensor_img)\n",
    "\n",
    "    # predicted_probs = pred\n",
    "\n",
    "    # tensor_mask = F.one_hot(tensor_mask.long(), num_classes=predicted_probs.long().shape[1]).permute(0, 4, 1, 2, 3).float()\n",
    "\n",
    "    loss = loss_fn(pred, tensor_mask.long())\n",
    "\n",
    "    print(\"TRAIN\", ind, \"loss\", loss)\n",
    "    loss.backward()\n",
    "    optimizer.step()\n",
    "\n",
    "    model.eval()\n",
    "    with torch.no_grad():\n",
    "        ind = 10\n",
    "        img, mask = dataset[ind]\n",
    "        tensor_mask = torch.Tensor(mask).unsqueeze(0).to(device)\n",
    "        tensor_img = torch.Tensor(img).unsqueeze(0).unsqueeze(0).to(device)\n",
    "        # tensor_mask = F.one_hot(tensor_mask.long(), num_classes=predicted_probs.long().shape[1]).permute(0, 4, 1, 2, 3).float()\n",
    "\n",
    "        pred = model.forward(tensor_img)\n",
    "\n",
    "        # predicted_probs = pred\n",
    "        loss = loss_fn(pred, tensor_mask.long())\n",
    "\n",
    "        y_preds = pred.to(\"cpu\").numpy()\n",
    "\n",
    "        target_one_hot = tensor_mask\n",
    "        mask = target_one_hot.to(\"cpu\").numpy()\n",
    "        if list_y_pred is None:\n",
    "            list_y_pred = y_preds\n",
    "            list_y_true = mask\n",
    "\n",
    "        else:\n",
    "            list_y_pred = np.vstack((list_y_pred, y_preds))\n",
    "            list_y_true = np.vstack((list_y_true, mask))\n",
    "        print(\"TEST\", ind, \"loss\", i, loss)"
   ]
  },
  {
   "cell_type": "markdown",
   "id": "05e49df4-6d8f-453e-8f7f-23746cf24516",
   "metadata": {},
   "source": [
    "nn.CrossEntropyLoss()"
   ]
  },
  {
   "cell_type": "code",
   "execution_count": 10,
   "id": "15ab5995-8bad-4712-a0ef-22d3317a612a",
   "metadata": {},
   "outputs": [
    {
     "name": "stdout",
     "output_type": "stream",
     "text": [
      "loss CrossEntropyLoss()\n",
      "TRAIN 1 loss tensor(1.3133, device='cuda:0', grad_fn=<NllLoss2DBackward0>)\n",
      "TEST 10 loss 0 tensor(1.4329, device='cuda:0')\n",
      "TRAIN 1 loss tensor(1.0200, device='cuda:0', grad_fn=<NllLoss2DBackward0>)\n",
      "TEST 10 loss 1 tensor(1.3112, device='cuda:0')\n",
      "TRAIN 1 loss tensor(0.7612, device='cuda:0', grad_fn=<NllLoss2DBackward0>)\n",
      "TEST 10 loss 2 tensor(1.1936, device='cuda:0')\n",
      "TRAIN 1 loss tensor(0.5745, device='cuda:0', grad_fn=<NllLoss2DBackward0>)\n",
      "TEST 10 loss 3 tensor(1.1110, device='cuda:0')\n",
      "TRAIN 1 loss tensor(0.4728, device='cuda:0', grad_fn=<NllLoss2DBackward0>)\n",
      "TEST 10 loss 4 tensor(1.0585, device='cuda:0')\n",
      "TRAIN 1 loss tensor(0.4234, device='cuda:0', grad_fn=<NllLoss2DBackward0>)\n",
      "TEST 10 loss 5 tensor(1.0278, device='cuda:0')\n",
      "TRAIN 1 loss tensor(0.3988, device='cuda:0', grad_fn=<NllLoss2DBackward0>)\n",
      "TEST 10 loss 6 tensor(1.0116, device='cuda:0')\n",
      "TRAIN 1 loss tensor(0.3803, device='cuda:0', grad_fn=<NllLoss2DBackward0>)\n",
      "TEST 10 loss 7 tensor(1.0065, device='cuda:0')\n",
      "TRAIN 1 loss tensor(0.3577, device='cuda:0', grad_fn=<NllLoss2DBackward0>)\n",
      "TEST 10 loss 8 tensor(1.0104, device='cuda:0')\n",
      "TRAIN 1 loss tensor(0.3359, device='cuda:0', grad_fn=<NllLoss2DBackward0>)\n",
      "TEST 10 loss 9 tensor(1.0186, device='cuda:0')\n"
     ]
    }
   ],
   "source": [
    "model = ResidualUNet3D(\n",
    "    in_channels=1, out_channels=5, f_maps=[16, 32, 64, 128, 256], final_sigmoid=False\n",
    ")\n",
    "device = torch.device(\"cuda\" if torch.cuda.is_available() else \"cpu\")\n",
    "model.to(device)\n",
    "device\n",
    "optimizer = torch.optim.Adam(model.parameters(), lr=0.0005)\n",
    "loss_fn = torch.nn.CrossEntropyLoss()\n",
    "\n",
    "list_y_true = None\n",
    "list_y_pred = None\n",
    "print(\"loss\", loss_fn)\n",
    "for i in range(10):\n",
    "    model.train()\n",
    "    ind = 1\n",
    "    img, mask = dataset[ind]\n",
    "    tensor_mask = torch.Tensor(mask).unsqueeze(0).to(device)\n",
    "    tensor_img = torch.Tensor(img).unsqueeze(0).unsqueeze(0).to(device)\n",
    "    optimizer.zero_grad()\n",
    "    pred = model.forward(tensor_img)\n",
    "\n",
    "    # predicted_probs = pred\n",
    "\n",
    "    # tensor_mask = F.one_hot(tensor_mask.long(), num_classes=predicted_probs.long().shape[1]).permute(0, 4, 1, 2, 3).float()\n",
    "\n",
    "    loss = loss_fn(pred, tensor_mask.long())\n",
    "\n",
    "    print(\"TRAIN\", ind, \"loss\", loss)\n",
    "    loss.backward()\n",
    "    optimizer.step()\n",
    "\n",
    "    model.eval()\n",
    "    with torch.no_grad():\n",
    "        ind = 10\n",
    "        img, mask = dataset[ind]\n",
    "        tensor_mask = torch.Tensor(mask).unsqueeze(0).to(device)\n",
    "        tensor_img = torch.Tensor(img).unsqueeze(0).unsqueeze(0).to(device)\n",
    "        # tensor_mask = F.one_hot(tensor_mask.long(), num_classes=predicted_probs.long().shape[1]).permute(0, 4, 1, 2, 3).float()\n",
    "\n",
    "        pred = model.forward(tensor_img)\n",
    "\n",
    "        # predicted_probs = pred\n",
    "        loss = loss_fn(pred, tensor_mask.long())\n",
    "\n",
    "        y_preds = pred.to(\"cpu\").numpy()\n",
    "\n",
    "        target_one_hot = tensor_mask\n",
    "        mask = target_one_hot.to(\"cpu\").numpy()\n",
    "        if list_y_pred is None:\n",
    "            list_y_pred = y_preds\n",
    "            list_y_true = mask\n",
    "\n",
    "        else:\n",
    "            list_y_pred = np.vstack((list_y_pred, y_preds))\n",
    "            list_y_true = np.vstack((list_y_true, mask))\n",
    "        print(\"TEST\", ind, \"loss\", i, loss)"
   ]
  },
  {
   "cell_type": "code",
   "execution_count": null,
   "id": "31ffcb75-e2ec-461d-a536-1caaff6d5b01",
   "metadata": {},
   "outputs": [],
   "source": []
  },
  {
   "cell_type": "markdown",
   "id": "f261d8ae-44c3-4bc8-b379-3a9ae1090501",
   "metadata": {},
   "source": [
    "# Базовая метрика из либы Unet3D"
   ]
  },
  {
   "cell_type": "code",
   "execution_count": 11,
   "id": "072e1ec4-ca12-4048-8dfc-1e1aa52a254c",
   "metadata": {},
   "outputs": [
    {
     "data": {
      "text/plain": [
       "(torch.Size([10, 5, 128, 128, 64]), torch.Size([10, 5, 128, 128, 64]))"
      ]
     },
     "execution_count": 11,
     "metadata": {},
     "output_type": "execute_result"
    }
   ],
   "source": [
    "torch.Tensor(list_y_pred).shape, F.one_hot(\n",
    "    torch.Tensor(list_y_true).long(), num_classes=5\n",
    ").permute(0, 4, 1, 2, 3).float().shape"
   ]
  },
  {
   "cell_type": "code",
   "execution_count": 49,
   "id": "6a05644c-a8fb-4619-9980-e0f1a8844e8d",
   "metadata": {},
   "outputs": [
    {
     "data": {
      "text/plain": [
       "tensor(0.0020)"
      ]
     },
     "execution_count": 49,
     "metadata": {},
     "output_type": "execute_result"
    }
   ],
   "source": [
    "metric = MeanIoU(skip_channels=([0, 3]))\n",
    "metric(\n",
    "    torch.Tensor(list_y_pred),\n",
    "    F.one_hot(torch.Tensor(list_y_true).long(), num_classes=5)\n",
    "    .permute(0, 4, 1, 2, 3)\n",
    "    .float(),\n",
    ")"
   ]
  },
  {
   "cell_type": "code",
   "execution_count": 17,
   "id": "cdfc0573-068e-47f8-b398-9b0ba0024396",
   "metadata": {},
   "outputs": [
    {
     "data": {
      "text/plain": [
       "tensor(0.2470)"
      ]
     },
     "execution_count": 17,
     "metadata": {},
     "output_type": "execute_result"
    }
   ],
   "source": [
    "metric = DiceCoefficient()\n",
    "metric(\n",
    "    torch.Tensor(list_y_pred),\n",
    "    F.one_hot(torch.Tensor(list_y_true).long(), num_classes=5)\n",
    "    .permute(0, 4, 1, 2, 3)\n",
    "    .float(),\n",
    ")"
   ]
  },
  {
   "cell_type": "code",
   "execution_count": 58,
   "id": "9a2c77c0-289f-4197-9477-cda2fe82ebf0",
   "metadata": {},
   "outputs": [],
   "source": [
    "def print_metric_MeanIoU(y_pred, y_true):\n",
    "    metric = MeanIoU(skip_channels=())\n",
    "    y_pred = torch.Tensor(list_y_pred)\n",
    "    y_true = (\n",
    "        F.one_hot(torch.Tensor(list_y_true).long(), num_classes=5)\n",
    "        .permute(0, 4, 1, 2, 3)\n",
    "        .float()\n",
    "    )\n",
    "    print(f\"MeanIoU : {metric(y_pred, y_true)}\")\n",
    "\n",
    "    metric = MeanIoU(skip_channels=[0])\n",
    "    print(f\"MeanIoU without 0 channel: {metric(y_pred, y_true):.3f}\")\n",
    "    metric = MeanIoU(skip_channels=((0, 5)))\n",
    "    print(f\"MeanIoU without 0, 5 channel: {metric(y_pred, y_true):.3f}\")"
   ]
  },
  {
   "cell_type": "code",
   "execution_count": 59,
   "id": "d3ef8911-0db2-4b92-b0f8-1a4b18dd35d1",
   "metadata": {},
   "outputs": [
    {
     "name": "stdout",
     "output_type": "stream",
     "text": [
      "MeanIoU : 0.18886908888816833\n",
      "MeanIoU without 0 channel: 0.002\n",
      "MeanIoU without 0, 5 channel: 0.002\n"
     ]
    }
   ],
   "source": [
    "print_metric_MeanIoU(list_y_pred, list_y_true)"
   ]
  },
  {
   "cell_type": "code",
   "execution_count": null,
   "id": "016332f2-30ef-4367-a49a-23ca2dc00194",
   "metadata": {},
   "outputs": [],
   "source": []
  }
 ],
 "metadata": {
  "kernelspec": {
   "display_name": "Python 3 (ipykernel)",
   "language": "python",
   "name": "python3"
  },
  "language_info": {
   "codemirror_mode": {
    "name": "ipython",
    "version": 3
   },
   "file_extension": ".py",
   "mimetype": "text/x-python",
   "name": "python",
   "nbconvert_exporter": "python",
   "pygments_lexer": "ipython3",
   "version": "3.10.7"
  }
 },
 "nbformat": 4,
 "nbformat_minor": 5
}
