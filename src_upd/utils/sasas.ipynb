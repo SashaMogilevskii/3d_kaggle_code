{
 "cells": [
  {
   "cell_type": "code",
   "execution_count": 1,
   "metadata": {},
   "outputs": [],
   "source": [
    "import os\n",
    "\n",
    "import torch\n",
    "import pandas as pd\n",
    "import numpy as np\n",
    "import torch.nn.functional as F\n",
    "\n",
    "from preprocessing_img_for_segmentation import process\n",
    "from torch.utils.data import DataLoader, Dataset\n",
    "import volumentations as V\n",
    "\n",
    "\n",
    "def create_fold_from_data(path_data, fold=5):\n",
    "    \"\"\"\n",
    "    Проблема в том, что одному patient_id могут относиться 2 изображения.\n",
    "    Мне нужно разбить дату так, чтобы 2 изображения, которые относятся к одному patient_id\n",
    "    были в одном фолде.\n",
    "    :param path_data:\n",
    "    :param randome_state:\n",
    "    :param fold:\n",
    "    :return:\n",
    "    \"\"\"\n",
    "    df = pd.read_csv(path_data)\n",
    "    df['count'] = df.groupby('patient_id')['patient_id'].transform('count')\n",
    "    df = df.sort_values(by='count', ascending=False)\n",
    "    df['FOLD'] = (df.index // (len(df) / fold)).astype(int)\n",
    "\n",
    "    return df\n",
    "\n",
    "\n",
    "class SegmentationDataset(Dataset):\n",
    "    def __init__(self,\n",
    "                 data,\n",
    "                 size,\n",
    "                 path_to_folder_with_imgs,\n",
    "                 path_to_folder_with_masks,\n",
    "                 typ_augm,\n",
    "                 device):\n",
    "\n",
    "        self.data = data\n",
    "        self.size = size\n",
    "        self.path_to_folder_with_imgs = path_to_folder_with_imgs\n",
    "        self.path_to_folder_with_masks = path_to_folder_with_masks\n",
    "        self.device = device\n",
    "\n",
    "        if typ_augm == 'v1':\n",
    "\n",
    "            self.aug = V.Compose([\n",
    "                V.Resize(self.size, interpolation=3, resize_type=0, always_apply=True, p=1.0),\n",
    "            ], p=1.0)\n",
    "\n",
    "\n",
    "\n",
    "    def __len__(self):\n",
    "        return len(self.data)\n",
    "\n",
    "\n",
    "    def __getitem__(self, idx):\n",
    "        row = self.data.iloc[idx]\n",
    "        path_to_img = os.path.join(self.path_to_folder_with_imgs, str(row['patient_id']), str(row['series_id']))\n",
    "        path_to_mask = os.path.join(self.path_to_folder_with_masks, f\"{row['series_id']}.npy\")\n",
    "\n",
    "        img = process(data_path=path_to_img)\n",
    "\n",
    "        img_tensor = F.interpolate(\n",
    "            torch.tensor(img).unsqueeze(0).unsqueeze(0).to(self.device),\n",
    "            size=self.size,\n",
    "            mode='trilinear',\n",
    "            align_corners=False\n",
    "        )[0]\n",
    "\n",
    "        mask = np.load(path_to_mask)\n",
    "        upd_mask = self.aug(**{\"mask\":mask})['mask']\n",
    "\n",
    "\n",
    "\n",
    "        return img_tensor, torch.Tensor(upd_mask)\n",
    "\n",
    "\n",
    "\n",
    "\n",
    "    "
   ]
  },
  {
   "cell_type": "code",
   "execution_count": 2,
   "metadata": {},
   "outputs": [],
   "source": [
    "import os\n",
    "import pydicom\n",
    "import numpy as np\n",
    "\n",
    "import ipyvolume as ipv\n",
    "import volumentations as V\n",
    "import nibabel as nib\n",
    "import sys"
   ]
  },
  {
   "cell_type": "code",
   "execution_count": 3,
   "metadata": {
    "collapsed": false,
    "jupyter": {
     "outputs_hidden": false
    }
   },
   "outputs": [],
   "source": [
    "df = create_fold_from_data(path_data=\"../data_for_segmentation.csv\",\n",
    "                               )\n",
    "\n",
    "dataset = SegmentationDataset(data=df,\n",
    "                      size=(192, 192, 192),\n",
    "                      typ_augm='v1',\n",
    "                      device = torch.device('cuda' if torch.cuda.is_available() else 'cpu'),\n",
    "                      path_to_folder_with_imgs=r\"C:\\KAGGLE\\MEDICINE\\data\\train_images\",\n",
    "                      path_to_folder_with_masks=r\"C:\\KAGGLE\\MEDICINE\\data\\segmentations_numpy\")\n",
    "\n"
   ]
  },
  {
   "cell_type": "code",
   "execution_count": 18,
   "metadata": {},
   "outputs": [
    {
     "name": "stdout",
     "output_type": "stream",
     "text": [
      "torch.Size([1, 192, 192, 192]) torch.Size([192, 192, 192])\n"
     ]
    }
   ],
   "source": [
    "img, mask = dataset[29]\n",
    "print(img.shape, mask.shape)"
   ]
  },
  {
   "cell_type": "code",
   "execution_count": 19,
   "metadata": {},
   "outputs": [],
   "source": [
    "img = img[0].to('cpu').numpy()"
   ]
  },
  {
   "cell_type": "code",
   "execution_count": 20,
   "metadata": {},
   "outputs": [],
   "source": [
    "mask = mask.to('cpu').numpy()"
   ]
  },
  {
   "cell_type": "code",
   "execution_count": 24,
   "metadata": {},
   "outputs": [
    {
     "data": {
      "application/vnd.jupyter.widget-view+json": {
       "model_id": "796ec18a559d4065959dad725f7c3f0a",
       "version_major": 2,
       "version_minor": 0
      },
      "text/plain": [
       "Container(children=[VBox(children=(HBox(children=(Label(value='levels:'), FloatSlider(value=0.1, max=1.0, step…"
      ]
     },
     "metadata": {},
     "output_type": "display_data"
    }
   ],
   "source": [
    "fig = ipv.figure()\n",
    "\n",
    "\n",
    "vol = ipv.volshow(   np.where(mask == 4, 1, 0) )\n",
    "\n",
    "ipv.style.box_off()\n",
    "ipv.style.axes_off()\n",
    "ipv.style.set_style_light()\n",
    "\n",
    "\n",
    "ipv.show()"
   ]
  },
  {
   "cell_type": "code",
   "execution_count": null,
   "metadata": {},
   "outputs": [],
   "source": []
  },
  {
   "cell_type": "code",
   "execution_count": null,
   "metadata": {},
   "outputs": [],
   "source": []
  },
  {
   "cell_type": "code",
   "execution_count": null,
   "metadata": {},
   "outputs": [],
   "source": []
  },
  {
   "cell_type": "code",
   "execution_count": null,
   "metadata": {},
   "outputs": [],
   "source": []
  }
 ],
 "metadata": {
  "kernelspec": {
   "display_name": "Python 3 (ipykernel)",
   "language": "python",
   "name": "python3"
  },
  "language_info": {
   "codemirror_mode": {
    "name": "ipython",
    "version": 3
   },
   "file_extension": ".py",
   "mimetype": "text/x-python",
   "name": "python",
   "nbconvert_exporter": "python",
   "pygments_lexer": "ipython3",
   "version": "3.10.7"
  }
 },
 "nbformat": 4,
 "nbformat_minor": 4
}
