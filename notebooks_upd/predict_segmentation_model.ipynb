{
 "cells": [
  {
   "cell_type": "code",
   "execution_count": 9,
   "metadata": {},
   "outputs": [],
   "source": [
    "import yaml\n",
    "import time\n",
    "import os\n",
    "import datetime\n",
    "import warnings\n",
    "import sys\n",
    "import torch"
   ]
  },
  {
   "cell_type": "code",
   "execution_count": 22,
   "metadata": {
    "collapsed": false,
    "jupyter": {
     "outputs_hidden": false
    }
   },
   "outputs": [],
   "source": [
    "import os \n",
    "import pydicom\n",
    "import numpy as np \n",
    "import matplotlib.pyplot as plt\n",
    "import ipyvolume as ipv\n",
    "import nibabel as nib"
   ]
  },
  {
   "cell_type": "code",
   "execution_count": 2,
   "metadata": {
    "collapsed": false,
    "jupyter": {
     "outputs_hidden": false
    }
   },
   "outputs": [],
   "source": [
    "warnings.simplefilter(action='ignore', category=FutureWarning)\n",
    "sys.path.append(\"../pytorch3dunet/unet3d\")\n",
    "sys.path.append(\"../src_upd/utils/\")"
   ]
  },
  {
   "cell_type": "code",
   "execution_count": 3,
   "metadata": {
    "collapsed": false,
    "jupyter": {
     "outputs_hidden": false
    }
   },
   "outputs": [],
   "source": [
    "from model import ResidualUNet3D"
   ]
  },
  {
   "cell_type": "code",
   "execution_count": 4,
   "metadata": {
    "collapsed": false,
    "jupyter": {
     "outputs_hidden": false
    }
   },
   "outputs": [],
   "source": [
    "from create_dataset_for_segmentation import create_fold_from_data, SegmentationDataset"
   ]
  },
  {
   "cell_type": "code",
   "execution_count": 5,
   "metadata": {
    "collapsed": false,
    "jupyter": {
     "outputs_hidden": false
    }
   },
   "outputs": [],
   "source": [
    "df = create_fold_from_data(path_data=\"../src_upd/data_for_segmentation.csv\",\n",
    "                               )"
   ]
  },
  {
   "cell_type": "code",
   "execution_count": 6,
   "metadata": {},
   "outputs": [],
   "source": [
    "test_data = df[df.FOLD == 1].reset_index(drop=True)"
   ]
  },
  {
   "cell_type": "code",
   "execution_count": 11,
   "metadata": {},
   "outputs": [],
   "source": [
    "dataset = SegmentationDataset(data=test_data,\n",
    "                              size=(192, 192, 192),\n",
    "                              typ_augm='v1',\n",
    "                              is_train = False,\n",
    "                              device=torch.device('cuda' if torch.cuda.is_available() else 'cpu'),\n",
    "                              path_to_folder_with_imgs=r\"C:\\KAGGLE\\MEDICINE\\data\\train_images\",\n",
    "                              path_to_folder_with_masks=r\"C:\\KAGGLE\\MEDICINE\\data\\segmentations_numpy\")"
   ]
  },
  {
   "cell_type": "code",
   "execution_count": 15,
   "metadata": {},
   "outputs": [],
   "source": [
    "device = torch.device('cuda' if torch.cuda.is_available() else 'cpu')"
   ]
  },
  {
   "cell_type": "code",
   "execution_count": 18,
   "metadata": {},
   "outputs": [
    {
     "data": {
      "text/plain": [
       "device(type='cuda')"
      ]
     },
     "execution_count": 18,
     "metadata": {},
     "output_type": "execute_result"
    }
   ],
   "source": [
    "model = ResidualUNet3D(in_channels=1,\n",
    "                                   out_channels=5,\n",
    "                                   f_maps=[32,64,128,256,512],\n",
    "                                   final_sigmoid=False).to(device)\n",
    "\n",
    "model.load_state_dict(torch.load(\"../src_upd/ResidualUNet3D_fold_1_last_epochs.pt\", map_location= device))\n",
    "model.to(device)\n",
    "device"
   ]
  },
  {
   "cell_type": "code",
   "execution_count": 48,
   "metadata": {},
   "outputs": [],
   "source": [
    "img, mask = dataset[7]"
   ]
  },
  {
   "cell_type": "code",
   "execution_count": 49,
   "metadata": {},
   "outputs": [
    {
     "name": "stderr",
     "output_type": "stream",
     "text": [
      "C:\\Users\\mogil\\AppData\\Local\\Temp\\ipykernel_19572\\3574473198.py:3: UserWarning: To copy construct from a tensor, it is recommended to use sourceTensor.clone().detach() or sourceTensor.clone().detach().requires_grad_(True), rather than torch.tensor(sourceTensor).\n",
      "  pred_mask = (model).forward(torch.tensor(img).unsqueeze(0).to(device))\n"
     ]
    }
   ],
   "source": [
    "model.eval()\n",
    "with torch.no_grad():\n",
    "    pred_mask = (model).forward(torch.tensor(img).unsqueeze(0).to(device))\n",
    "    pred_mask = pred_mask[0]"
   ]
  },
  {
   "cell_type": "code",
   "execution_count": 50,
   "metadata": {},
   "outputs": [],
   "source": [
    "img = img.to('cpu').numpy()\n",
    "pred_mask = torch.argmax(pred_mask, dim=0)\n",
    "pred_mask = pred_mask.to('cpu').numpy()"
   ]
  },
  {
   "cell_type": "code",
   "execution_count": 51,
   "metadata": {},
   "outputs": [
    {
     "data": {
      "text/plain": [
       "(192, 192, 192)"
      ]
     },
     "execution_count": 51,
     "metadata": {},
     "output_type": "execute_result"
    }
   ],
   "source": [
    "pred_mask.shape"
   ]
  },
  {
   "cell_type": "code",
   "execution_count": 52,
   "metadata": {},
   "outputs": [],
   "source": [
    "mask = mask.numpy()"
   ]
  },
  {
   "cell_type": "code",
   "execution_count": 54,
   "metadata": {},
   "outputs": [
    {
     "data": {
      "application/vnd.jupyter.widget-view+json": {
       "model_id": "eaabfcc403ed4bf689d0b14bb99c22f7",
       "version_major": 2,
       "version_minor": 0
      },
      "text/plain": [
       "Container(children=[VBox(children=(HBox(children=(Label(value='levels:'), FloatSlider(value=0.1, max=1.0, step…"
      ]
     },
     "metadata": {},
     "output_type": "display_data"
    }
   ],
   "source": [
    "# Создайте трехмерную визуализацию\n",
    "fig = ipv.figure()\n",
    "\n",
    "# vol = ipv.volshow(np.where(real_mask == 3, 1, 0) , lighting=True)\n",
    "vol = ipv.volshow(img[0] + np.where(mask == 3, 1, 0), lighting=True)\n",
    "# Добавьте интерактивность (вращение, масштабирование и т.д.)\n",
    "ipv.style.box_off()\n",
    "ipv.style.axes_off()\n",
    "ipv.style.set_style_light()\n",
    "\n",
    "\n",
    "# Покажите визуализацию\n",
    "ipv.show()"
   ]
  },
  {
   "cell_type": "code",
   "execution_count": null,
   "metadata": {},
   "outputs": [],
   "source": []
  }
 ],
 "metadata": {
  "kernelspec": {
   "display_name": "Python 3 (ipykernel)",
   "language": "python",
   "name": "python3"
  },
  "language_info": {
   "codemirror_mode": {
    "name": "ipython",
    "version": 3
   },
   "file_extension": ".py",
   "mimetype": "text/x-python",
   "name": "python",
   "nbconvert_exporter": "python",
   "pygments_lexer": "ipython3",
   "version": "3.10.7"
  }
 },
 "nbformat": 4,
 "nbformat_minor": 4
}
