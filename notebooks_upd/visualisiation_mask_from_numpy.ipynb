{
 "cells": [
  {
   "cell_type": "code",
   "execution_count": 1,
   "metadata": {},
   "outputs": [],
   "source": [
    "\n",
    "import os\n",
    "import pydicom\n",
    "import numpy as np\n",
    "\n",
    "import ipyvolume as ipv\n",
    "import volumentations as V\n",
    "import nibabel as nib\n",
    "import sys\n",
    "sys.path.append(\"../src_upd/utils/\")\n",
    "from preprocessing_img_for_segmentation import process, create_3D_segmentations"
   ]
  },
  {
   "cell_type": "code",
   "execution_count": 2,
   "metadata": {
    "collapsed": false,
    "jupyter": {
     "outputs_hidden": false
    }
   },
   "outputs": [
    {
     "data": {
      "text/html": [
       "<div>\n",
       "<style scoped>\n",
       "    .dataframe tbody tr th:only-of-type {\n",
       "        vertical-align: middle;\n",
       "    }\n",
       "\n",
       "    .dataframe tbody tr th {\n",
       "        vertical-align: top;\n",
       "    }\n",
       "\n",
       "    .dataframe thead th {\n",
       "        text-align: right;\n",
       "    }\n",
       "</style>\n",
       "<table border=\"1\" class=\"dataframe\">\n",
       "  <thead>\n",
       "    <tr style=\"text-align: right;\">\n",
       "      <th></th>\n",
       "      <th>patient_id</th>\n",
       "      <th>series_id</th>\n",
       "      <th>count_layer</th>\n",
       "      <th>size</th>\n",
       "      <th>count_layers_seg</th>\n",
       "      <th>same</th>\n",
       "    </tr>\n",
       "  </thead>\n",
       "  <tbody>\n",
       "    <tr>\n",
       "      <th>188</th>\n",
       "      <td>62397</td>\n",
       "      <td>62307</td>\n",
       "      <td>843</td>\n",
       "      <td>(512, 512, 843)</td>\n",
       "      <td>843</td>\n",
       "      <td>True</td>\n",
       "    </tr>\n",
       "    <tr>\n",
       "      <th>136</th>\n",
       "      <td>44507</td>\n",
       "      <td>21282</td>\n",
       "      <td>850</td>\n",
       "      <td>(512, 512, 850)</td>\n",
       "      <td>850</td>\n",
       "      <td>True</td>\n",
       "    </tr>\n",
       "    <tr>\n",
       "      <th>152</th>\n",
       "      <td>50753</td>\n",
       "      <td>4759</td>\n",
       "      <td>861</td>\n",
       "      <td>(512, 512, 861)</td>\n",
       "      <td>861</td>\n",
       "      <td>True</td>\n",
       "    </tr>\n",
       "    <tr>\n",
       "      <th>0</th>\n",
       "      <td>10004</td>\n",
       "      <td>21057</td>\n",
       "      <td>1022</td>\n",
       "      <td>(512, 512, 1022)</td>\n",
       "      <td>1022</td>\n",
       "      <td>True</td>\n",
       "    </tr>\n",
       "    <tr>\n",
       "      <th>1</th>\n",
       "      <td>10004</td>\n",
       "      <td>51033</td>\n",
       "      <td>1044</td>\n",
       "      <td>(512, 512, 1044)</td>\n",
       "      <td>1044</td>\n",
       "      <td>True</td>\n",
       "    </tr>\n",
       "  </tbody>\n",
       "</table>\n",
       "</div>"
      ],
      "text/plain": [
       "     patient_id  series_id  count_layer              size  count_layers_seg  \\\n",
       "188       62397      62307          843   (512, 512, 843)               843   \n",
       "136       44507      21282          850   (512, 512, 850)               850   \n",
       "152       50753       4759          861   (512, 512, 861)               861   \n",
       "0         10004      21057         1022  (512, 512, 1022)              1022   \n",
       "1         10004      51033         1044  (512, 512, 1044)              1044   \n",
       "\n",
       "     same  \n",
       "188  True  \n",
       "136  True  \n",
       "152  True  \n",
       "0    True  \n",
       "1    True  "
      ]
     },
     "execution_count": 2,
     "metadata": {},
     "output_type": "execute_result"
    }
   ],
   "source": [
    "import pandas as pd\n",
    "data = pd.read_csv(\"../src_upd/data_for_segmentation.csv\")\n",
    "data.sort_values(\"count_layer\").tail()"
   ]
  },
  {
   "cell_type": "code",
   "execution_count": 5,
   "metadata": {
    "collapsed": false,
    "jupyter": {
     "outputs_hidden": false
    }
   },
   "outputs": [],
   "source": [
    "dicom_folder  = r\"C:\\KAGGLE\\MEDICINE\\data\\train_images\\10004\\21057\""
   ]
  },
  {
   "cell_type": "code",
   "execution_count": 6,
   "metadata": {
    "collapsed": false,
    "jupyter": {
     "outputs_hidden": false
    }
   },
   "outputs": [],
   "source": [
    "lst_files = os.listdir(dicom_folder)"
   ]
  },
  {
   "cell_type": "code",
   "execution_count": 7,
   "metadata": {
    "collapsed": false,
    "jupyter": {
     "outputs_hidden": false
    }
   },
   "outputs": [
    {
     "name": "stdout",
     "output_type": "stream",
     "text": [
      "CPU times: total: 4.59 s\n",
      "Wall time: 5.57 s\n"
     ]
    }
   ],
   "source": [
    "%%time \n",
    "img_new = process(data_path=dicom_folder, size=512)\n",
    "img = img_new\n"
   ]
  },
  {
   "cell_type": "code",
   "execution_count": 6,
   "metadata": {
    "collapsed": false,
    "jupyter": {
     "outputs_hidden": false
    }
   },
   "outputs": [
    {
     "name": "stdout",
     "output_type": "stream",
     "text": [
      "CPU times: total: 3.44 s\n",
      "Wall time: 8.4 s\n"
     ]
    }
   ],
   "source": [
    "%%time\n",
    "path_to_mask = r\"C:\\KAGGLE\\MEDICINE\\data\\segmentations\\4759.nii\"\n",
    "mask_data = create_3D_segmentations(path_to_mask)\n"
   ]
  },
  {
   "cell_type": "code",
   "execution_count": 17,
   "metadata": {},
   "outputs": [],
   "source": [
    "img = np.load(r\"C:\\KAGGLE\\MEDICINE\\data\\labels_img_after_pseudo\\kidney\\10004\\21057\\img.npy\")\n",
    "mask_data = np.load(r\"C:\\KAGGLE\\MEDICINE\\data\\labels_img_after_pseudo\\kidney\\10004\\21057\\mask.npy\")"
   ]
  },
  {
   "cell_type": "code",
   "execution_count": 18,
   "metadata": {},
   "outputs": [
    {
     "data": {
      "text/plain": [
       "array([0.0000000e+00, 8.3446503e-06, 2.0742416e-05, ..., 9.9999356e-01,\n",
       "       9.9999499e-01, 1.0000000e+00], dtype=float32)"
      ]
     },
     "execution_count": 18,
     "metadata": {},
     "output_type": "execute_result"
    }
   ],
   "source": [
    "np.unique(mask_data)"
   ]
  },
  {
   "cell_type": "code",
   "execution_count": 19,
   "metadata": {},
   "outputs": [
    {
     "name": "stdout",
     "output_type": "stream",
     "text": [
      "(128, 128, 128) (128, 128, 128)\n"
     ]
    }
   ],
   "source": [
    "print(mask_data.shape, img.shape)"
   ]
  },
  {
   "cell_type": "code",
   "execution_count": 9,
   "metadata": {},
   "outputs": [],
   "source": [
    "img = np.load(r\"C:\\KAGGLE\\MEDICINE\\data\\img_for_extavasion\\10004\\21057\\img_for_ext.npy\")"
   ]
  },
  {
   "cell_type": "code",
   "execution_count": 8,
   "metadata": {
    "collapsed": false,
    "jupyter": {
     "outputs_hidden": false
    }
   },
   "outputs": [
    {
     "data": {
      "application/vnd.jupyter.widget-view+json": {
       "model_id": "08bd7802126f4531818224f1f430c01d",
       "version_major": 2,
       "version_minor": 0
      },
      "text/plain": [
       "Container(children=[VBox(children=(HBox(children=(Label(value='levels:'), FloatSlider(value=0.1, max=1.0, step…"
      ]
     },
     "metadata": {},
     "output_type": "display_data"
    }
   ],
   "source": [
    "\n",
    "fig = ipv.figure()\n",
    "\n",
    "\n",
    "vol = ipv.volshow(  img)\n",
    "\n",
    "ipv.style.box_off()\n",
    "ipv.style.axes_off()\n",
    "ipv.style.set_style_light()\n",
    "\n",
    "\n",
    "ipv.show()"
   ]
  },
  {
   "cell_type": "code",
   "execution_count": 5,
   "metadata": {
    "collapsed": false,
    "jupyter": {
     "outputs_hidden": false
    }
   },
   "outputs": [
    {
     "data": {
      "text/plain": [
       "array([0, 1, 2, 3, 4], dtype=int64)"
      ]
     },
     "execution_count": 5,
     "metadata": {},
     "output_type": "execute_result"
    }
   ],
   "source": [
    "np.unique(mask_data)"
   ]
  },
  {
   "cell_type": "code",
   "execution_count": null,
   "metadata": {
    "collapsed": false,
    "jupyter": {
     "outputs_hidden": false
    }
   },
   "outputs": [],
   "source": []
  }
 ],
 "metadata": {
  "kernelspec": {
   "display_name": "Python 3 (ipykernel)",
   "language": "python",
   "name": "python3"
  },
  "language_info": {
   "codemirror_mode": {
    "name": "ipython",
    "version": 3
   },
   "file_extension": ".py",
   "mimetype": "text/x-python",
   "name": "python",
   "nbconvert_exporter": "python",
   "pygments_lexer": "ipython3",
   "version": "3.10.7"
  }
 },
 "nbformat": 4,
 "nbformat_minor": 4
}
