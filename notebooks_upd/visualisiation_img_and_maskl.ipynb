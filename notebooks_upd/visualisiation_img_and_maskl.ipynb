{
 "cells": [
  {
   "cell_type": "code",
   "execution_count": 1,
   "metadata": {
    "pycharm": {
     "is_executing": true
    }
   },
   "outputs": [],
   "source": [
    "import os\n",
    "import pydicom\n",
    "import numpy as np\n",
    "\n",
    "import ipyvolume as ipv\n",
    "import volumentations as V\n",
    "import nibabel as nib\n",
    "import sys\n",
    "sys.path.append(\"../src_upd/utils/\")\n",
    "from preprocessing_img_for_segmentation import process, create_3D_segmentations"
   ]
  },
  {
   "cell_type": "code",
   "execution_count": 1,
   "metadata": {
    "collapsed": false,
    "jupyter": {
     "outputs_hidden": false
    }
   },
   "outputs": [
    {
     "data": {
      "text/plain": "     patient_id  series_id  count_layer              size  count_layers_seg  \\\n188       62397      62307          843   (512, 512, 843)               843   \n136       44507      21282          850   (512, 512, 850)               850   \n152       50753       4759          861   (512, 512, 861)               861   \n0         10004      21057         1022  (512, 512, 1022)              1022   \n1         10004      51033         1044  (512, 512, 1044)              1044   \n\n     same  \n188  True  \n136  True  \n152  True  \n0    True  \n1    True  ",
      "text/html": "<div>\n<style scoped>\n    .dataframe tbody tr th:only-of-type {\n        vertical-align: middle;\n    }\n\n    .dataframe tbody tr th {\n        vertical-align: top;\n    }\n\n    .dataframe thead th {\n        text-align: right;\n    }\n</style>\n<table border=\"1\" class=\"dataframe\">\n  <thead>\n    <tr style=\"text-align: right;\">\n      <th></th>\n      <th>patient_id</th>\n      <th>series_id</th>\n      <th>count_layer</th>\n      <th>size</th>\n      <th>count_layers_seg</th>\n      <th>same</th>\n    </tr>\n  </thead>\n  <tbody>\n    <tr>\n      <th>188</th>\n      <td>62397</td>\n      <td>62307</td>\n      <td>843</td>\n      <td>(512, 512, 843)</td>\n      <td>843</td>\n      <td>True</td>\n    </tr>\n    <tr>\n      <th>136</th>\n      <td>44507</td>\n      <td>21282</td>\n      <td>850</td>\n      <td>(512, 512, 850)</td>\n      <td>850</td>\n      <td>True</td>\n    </tr>\n    <tr>\n      <th>152</th>\n      <td>50753</td>\n      <td>4759</td>\n      <td>861</td>\n      <td>(512, 512, 861)</td>\n      <td>861</td>\n      <td>True</td>\n    </tr>\n    <tr>\n      <th>0</th>\n      <td>10004</td>\n      <td>21057</td>\n      <td>1022</td>\n      <td>(512, 512, 1022)</td>\n      <td>1022</td>\n      <td>True</td>\n    </tr>\n    <tr>\n      <th>1</th>\n      <td>10004</td>\n      <td>51033</td>\n      <td>1044</td>\n      <td>(512, 512, 1044)</td>\n      <td>1044</td>\n      <td>True</td>\n    </tr>\n  </tbody>\n</table>\n</div>"
     },
     "execution_count": 1,
     "metadata": {},
     "output_type": "execute_result"
    }
   ],
   "source": [
    "import pandas as pd\n",
    "data = pd.read_csv(\"../src_upd/data_for_segmentation.csv\")\n",
    "data.sort_values(\"count_layer\").tail()"
   ]
  },
  {
   "cell_type": "code",
   "execution_count": 3,
   "metadata": {
    "collapsed": false,
    "jupyter": {
     "outputs_hidden": false
    }
   },
   "outputs": [],
   "source": [
    "dicom_folder  = r\"C:\\KAGGLE\\MEDICINE\\data\\train_images\\60744\\10494\""
   ]
  },
  {
   "cell_type": "code",
   "execution_count": 4,
   "metadata": {
    "collapsed": false,
    "jupyter": {
     "outputs_hidden": false
    }
   },
   "outputs": [],
   "source": [
    "lst_files = os.listdir(dicom_folder)"
   ]
  },
  {
   "cell_type": "code",
   "execution_count": 5,
   "metadata": {
    "collapsed": false,
    "jupyter": {
     "outputs_hidden": false
    }
   },
   "outputs": [
    {
     "name": "stdout",
     "output_type": "stream",
     "text": [
      "CPU times: total: 3.61 s\n",
      "Wall time: 7.32 s\n"
     ]
    }
   ],
   "source": [
    "%%time \n",
    "img_new = process(data_path=dicom_folder, size=512)\n",
    "img = img_new\n"
   ]
  },
  {
   "cell_type": "code",
   "execution_count": 14,
   "metadata": {
    "collapsed": false,
    "jupyter": {
     "outputs_hidden": false
    }
   },
   "outputs": [
    {
     "name": "stdout",
     "output_type": "stream",
     "text": [
      "CPU times: total: 812 ms\n",
      "Wall time: 1.68 s\n"
     ]
    }
   ],
   "source": [
    "%%time\n",
    "path_to_mask = r\"C:\\KAGGLE\\MEDICINE\\data\\segmentations\\10494.nii\"\n",
    "mask_data = create_3D_segmentations(path_to_mask)\n"
   ]
  },
  {
   "cell_type": "code",
   "execution_count": 15,
   "metadata": {},
   "outputs": [
    {
     "name": "stdout",
     "output_type": "stream",
     "text": [
      "(512, 512, 245) (512, 512, 245)\n"
     ]
    }
   ],
   "source": [
    "print(mask_data.shape, img.shape)"
   ]
  },
  {
   "cell_type": "code",
   "execution_count": 6,
   "metadata": {
    "collapsed": false,
    "jupyter": {
     "outputs_hidden": false
    }
   },
   "outputs": [
    {
     "name": "stderr",
     "output_type": "stream",
     "text": [
      "E:\\Project_python\\kaggle_3d\\myenv\\lib\\site-packages\\ipyvolume\\serialize.py:102: RuntimeWarning: invalid value encountered in cast\n",
      "  subdata[..., i] = ((gradient[i][zindex] / 2.0 + 0.5) * 255).astype(np.uint8)\n"
     ]
    },
    {
     "data": {
      "application/vnd.jupyter.widget-view+json": {
       "model_id": "ba0bc157a73e4922942d4110066fd67f",
       "version_major": 2,
       "version_minor": 0
      },
      "text/plain": [
       "Container(children=[VBox(children=(HBox(children=(Label(value='levels:'), FloatSlider(value=0.1, max=1.0, step…"
      ]
     },
     "metadata": {},
     "output_type": "display_data"
    }
   ],
   "source": [
    "\n",
    "fig = ipv.figure()\n",
    "\n",
    "\n",
    "vol = ipv.volshow(  img )\n",
    "\n",
    "ipv.style.box_off()\n",
    "ipv.style.axes_off()\n",
    "ipv.style.set_style_light()\n",
    "\n",
    "\n",
    "ipv.show()"
   ]
  },
  {
   "cell_type": "code",
   "execution_count": null,
   "metadata": {
    "collapsed": false,
    "jupyter": {
     "outputs_hidden": false
    }
   },
   "outputs": [],
   "source": [
    " +  np.where(mask_data == 1, 1, 0)"
   ]
  },
  {
   "cell_type": "code",
   "execution_count": 10,
   "metadata": {
    "collapsed": false,
    "jupyter": {
     "outputs_hidden": false
    }
   },
   "outputs": [
    {
     "data": {
      "text/plain": [
       "array([0, 1, 2, 4])"
      ]
     },
     "execution_count": 10,
     "metadata": {},
     "output_type": "execute_result"
    }
   ],
   "source": [
    "np.unique(mask_data)"
   ]
  },
  {
   "cell_type": "code",
   "execution_count": null,
   "metadata": {},
   "outputs": [],
   "source": []
  }
 ],
 "metadata": {
  "kernelspec": {
   "display_name": "Python 3 (ipykernel)",
   "language": "python",
   "name": "python3"
  },
  "language_info": {
   "codemirror_mode": {
    "name": "ipython",
    "version": 3
   },
   "file_extension": ".py",
   "mimetype": "text/x-python",
   "name": "python",
   "nbconvert_exporter": "python",
   "pygments_lexer": "ipython3",
   "version": "3.10.7"
  }
 },
 "nbformat": 4,
 "nbformat_minor": 4
}
